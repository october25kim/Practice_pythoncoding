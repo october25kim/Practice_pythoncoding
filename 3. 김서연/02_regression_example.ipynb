{
 "cells": [
  {
   "cell_type": "code",
   "execution_count": 102,
   "metadata": {},
   "outputs": [],
   "source": [
    "import pandas as pd\n",
    "import numpy as np\n",
    "from sklearn.model_selection import train_test_split\n",
    "from sklearn.preprocessing import StandardScaler\n",
    "import matplotlib.pyplot as plt\n",
    "\n",
    "import torch\n",
    "import torch.nn as nn\n",
    "import torch.nn.functional as f\n",
    "import torch.optim as optim\n",
    "import torch.utils as utils\n",
    "import torch.utils.data as data_utils"
   ]
  },
  {
   "cell_type": "code",
   "execution_count": 2,
   "metadata": {},
   "outputs": [
    {
     "name": "stdout",
     "output_type": "stream",
     "text": [
      "cuda\n"
     ]
    }
   ],
   "source": [
    "DEVICE = 'cuda' if torch.cuda.is_available() else 'cpu'\n",
    "print(DEVICE)"
   ]
  },
  {
   "cell_type": "markdown",
   "metadata": {},
   "source": [
    "# 데이터 불러오기 및 변환"
   ]
  },
  {
   "cell_type": "code",
   "execution_count": 104,
   "metadata": {},
   "outputs": [],
   "source": [
    "from sklearn.datasets import load_boston\n",
    "\n",
    "boston = load_boston()\n",
    "data = pd.DataFrame(boston.data, columns = boston.feature_names)\n",
    "data['const'] = np.ones(data.shape[0])"
   ]
  },
  {
   "cell_type": "code",
   "execution_count": 105,
   "metadata": {},
   "outputs": [
    {
     "data": {
      "text/html": [
       "<div>\n",
       "<style scoped>\n",
       "    .dataframe tbody tr th:only-of-type {\n",
       "        vertical-align: middle;\n",
       "    }\n",
       "\n",
       "    .dataframe tbody tr th {\n",
       "        vertical-align: top;\n",
       "    }\n",
       "\n",
       "    .dataframe thead th {\n",
       "        text-align: right;\n",
       "    }\n",
       "</style>\n",
       "<table border=\"1\" class=\"dataframe\">\n",
       "  <thead>\n",
       "    <tr style=\"text-align: right;\">\n",
       "      <th></th>\n",
       "      <th>CRIM</th>\n",
       "      <th>ZN</th>\n",
       "      <th>INDUS</th>\n",
       "      <th>CHAS</th>\n",
       "      <th>NOX</th>\n",
       "      <th>RM</th>\n",
       "      <th>AGE</th>\n",
       "      <th>DIS</th>\n",
       "      <th>RAD</th>\n",
       "      <th>TAX</th>\n",
       "      <th>PTRATIO</th>\n",
       "      <th>B</th>\n",
       "      <th>LSTAT</th>\n",
       "      <th>const</th>\n",
       "    </tr>\n",
       "  </thead>\n",
       "  <tbody>\n",
       "    <tr>\n",
       "      <td>0</td>\n",
       "      <td>0.00632</td>\n",
       "      <td>18.0</td>\n",
       "      <td>2.31</td>\n",
       "      <td>0.0</td>\n",
       "      <td>0.538</td>\n",
       "      <td>6.575</td>\n",
       "      <td>65.2</td>\n",
       "      <td>4.0900</td>\n",
       "      <td>1.0</td>\n",
       "      <td>296.0</td>\n",
       "      <td>15.3</td>\n",
       "      <td>396.90</td>\n",
       "      <td>4.98</td>\n",
       "      <td>1.0</td>\n",
       "    </tr>\n",
       "    <tr>\n",
       "      <td>1</td>\n",
       "      <td>0.02731</td>\n",
       "      <td>0.0</td>\n",
       "      <td>7.07</td>\n",
       "      <td>0.0</td>\n",
       "      <td>0.469</td>\n",
       "      <td>6.421</td>\n",
       "      <td>78.9</td>\n",
       "      <td>4.9671</td>\n",
       "      <td>2.0</td>\n",
       "      <td>242.0</td>\n",
       "      <td>17.8</td>\n",
       "      <td>396.90</td>\n",
       "      <td>9.14</td>\n",
       "      <td>1.0</td>\n",
       "    </tr>\n",
       "    <tr>\n",
       "      <td>2</td>\n",
       "      <td>0.02729</td>\n",
       "      <td>0.0</td>\n",
       "      <td>7.07</td>\n",
       "      <td>0.0</td>\n",
       "      <td>0.469</td>\n",
       "      <td>7.185</td>\n",
       "      <td>61.1</td>\n",
       "      <td>4.9671</td>\n",
       "      <td>2.0</td>\n",
       "      <td>242.0</td>\n",
       "      <td>17.8</td>\n",
       "      <td>392.83</td>\n",
       "      <td>4.03</td>\n",
       "      <td>1.0</td>\n",
       "    </tr>\n",
       "  </tbody>\n",
       "</table>\n",
       "</div>"
      ],
      "text/plain": [
       "      CRIM    ZN  INDUS  CHAS    NOX     RM   AGE     DIS  RAD    TAX  \\\n",
       "0  0.00632  18.0   2.31   0.0  0.538  6.575  65.2  4.0900  1.0  296.0   \n",
       "1  0.02731   0.0   7.07   0.0  0.469  6.421  78.9  4.9671  2.0  242.0   \n",
       "2  0.02729   0.0   7.07   0.0  0.469  7.185  61.1  4.9671  2.0  242.0   \n",
       "\n",
       "   PTRATIO       B  LSTAT  const  \n",
       "0     15.3  396.90   4.98    1.0  \n",
       "1     17.8  396.90   9.14    1.0  \n",
       "2     17.8  392.83   4.03    1.0  "
      ]
     },
     "metadata": {},
     "output_type": "display_data"
    }
   ],
   "source": [
    "display(data.head(3))"
   ]
  },
  {
   "cell_type": "code",
   "execution_count": 107,
   "metadata": {},
   "outputs": [],
   "source": [
    "scaler = StandardScaler()\n",
    "data = scaler.fit_transform(data)"
   ]
  },
  {
   "cell_type": "code",
   "execution_count": 108,
   "metadata": {},
   "outputs": [],
   "source": [
    "y = pd.DataFrame(boston.target)"
   ]
  },
  {
   "cell_type": "code",
   "execution_count": 109,
   "metadata": {},
   "outputs": [],
   "source": [
    "y = scaler.fit_transform(y)"
   ]
  },
  {
   "cell_type": "code",
   "execution_count": 110,
   "metadata": {},
   "outputs": [],
   "source": [
    "X_train, X_test, y_train, y_test = train_test_split(data.astype(float), y.astype(float), test_size = 0.3, random_state = 1234)"
   ]
  },
  {
   "cell_type": "code",
   "execution_count": 148,
   "metadata": {},
   "outputs": [],
   "source": [
    "# change into tensor\n",
    "\n",
    "tensor_x_train = torch.from_numpy(X_train).to(DEVICE)\n",
    "tensor_y_train = torch.from_numpy(y_train).to(DEVICE)\n",
    "tensor_x_test = torch.from_numpy(X_test).to(DEVICE)\n",
    "tensor_y_test = torch.from_numpy(y_test).to(DEVICE)"
   ]
  },
  {
   "cell_type": "code",
   "execution_count": 112,
   "metadata": {},
   "outputs": [],
   "source": [
    "# tensor_x_train = torch.from_numpy(X_train)\n",
    "# tensor_y_train = torch.from_numpy(y_train)\n",
    "\n",
    "# train_dataset = data_utils.TensorDataset(tensor_x_train, tensor_y_train)\n",
    "# train_loader = data_utils.DataLoader(train_dataset, pin_memory = True)"
   ]
  },
  {
   "cell_type": "code",
   "execution_count": 113,
   "metadata": {},
   "outputs": [],
   "source": [
    "# tensor_x_test = torch.from_numpy(X_test)\n",
    "# tensor_y_test = torch.from_numpy(y_test)\n",
    "\n",
    "# test_dataset = data_utils.TensorDataset(tensor_x_test, tensor_y_test)\n",
    "# test_loader = data_utils.DataLoader(test_dataset, pin_memory = True)"
   ]
  },
  {
   "cell_type": "markdown",
   "metadata": {},
   "source": [
    "# Regression Example"
   ]
  },
  {
   "cell_type": "code",
   "execution_count": 158,
   "metadata": {},
   "outputs": [],
   "source": [
    "class LinearRegressionModel(torch.nn.Module):\n",
    "    def __init__(self):\n",
    "        super().__init__()\n",
    "        self.linear = torch.nn.Linear(14, 1)\n",
    "    \n",
    "    def forward(self, x):\n",
    "        return self.linear(x)\n",
    "\n",
    "regressor = LinearRegressionModel()"
   ]
  },
  {
   "cell_type": "code",
   "execution_count": 159,
   "metadata": {},
   "outputs": [
    {
     "name": "stdout",
     "output_type": "stream",
     "text": [
      "The model has 15 trainable parameters. \n",
      "\n",
      "LinearRegressionModel(\n",
      "  (linear): Linear(in_features=14, out_features=1, bias=True)\n",
      ")\n",
      "[Parameter containing:\n",
      "tensor([[-0.2235, -0.0552,  0.1554,  0.0281, -0.1812, -0.1039,  0.1096,  0.1491,\n",
      "          0.1639, -0.1966, -0.1128, -0.1616,  0.2350,  0.1583]],\n",
      "       requires_grad=True), Parameter containing:\n",
      "tensor([0.0410], requires_grad=True)]\n"
     ]
    }
   ],
   "source": [
    "def count_parameters(model):\n",
    "    return sum(p.numel() for p in model.parameters() if p.requires_grad)\n",
    "\n",
    "print(f'The model has {count_parameters(regressor):,} trainable parameters. \\n')\n",
    "\n",
    "print(regressor)\n",
    "print(list(regressor.parameters()))"
   ]
  },
  {
   "cell_type": "code",
   "execution_count": 160,
   "metadata": {},
   "outputs": [],
   "source": [
    "criterion = nn.MSELoss()\n",
    "optimizer = optim.SGD(regressor.parameters(), lr = 0.01)"
   ]
  },
  {
   "cell_type": "code",
   "execution_count": 161,
   "metadata": {},
   "outputs": [
    {
     "name": "stdout",
     "output_type": "stream",
     "text": [
      "==> Start Training ...\n",
      "epoch 0, loss 1.405575156211853\n",
      "epoch 50, loss 0.3962398171424866\n",
      "epoch 100, loss 0.3085697889328003\n",
      "epoch 150, loss 0.28584185242652893\n",
      "epoch 200, loss 0.2761172652244568\n",
      "epoch 250, loss 0.2706293761730194\n",
      "epoch 300, loss 0.26714828610420227\n",
      "epoch 350, loss 0.2648247182369232\n",
      "epoch 400, loss 0.26323196291923523\n",
      "epoch 450, loss 0.2621217370033264\n",
      "epoch 500, loss 0.261338472366333\n",
      "epoch 550, loss 0.26078057289123535\n",
      "epoch 600, loss 0.26037999987602234\n",
      "epoch 650, loss 0.2600901126861572\n",
      "epoch 700, loss 0.25987887382507324\n",
      "epoch 750, loss 0.2597237825393677\n",
      "epoch 800, loss 0.25960904359817505\n",
      "epoch 850, loss 0.2595234811306\n",
      "epoch 900, loss 0.2594590187072754\n",
      "epoch 950, loss 0.2594100832939148\n",
      "epoch 1000, loss 0.2593725323677063\n",
      "epoch 1050, loss 0.25934335589408875\n",
      "epoch 1100, loss 0.2593204975128174\n",
      "epoch 1150, loss 0.2593022882938385\n",
      "epoch 1200, loss 0.25928765535354614\n",
      "epoch 1250, loss 0.25927576422691345\n",
      "epoch 1300, loss 0.2592659592628479\n",
      "epoch 1350, loss 0.25925782322883606\n",
      "epoch 1400, loss 0.2592509686946869\n",
      "epoch 1450, loss 0.2592451572418213\n",
      "epoch 1500, loss 0.25924012064933777\n",
      "epoch 1550, loss 0.25923579931259155\n",
      "epoch 1600, loss 0.2592320442199707\n",
      "epoch 1650, loss 0.25922876596450806\n",
      "epoch 1700, loss 0.25922587513923645\n",
      "epoch 1750, loss 0.2592233419418335\n",
      "epoch 1800, loss 0.25922107696533203\n",
      "epoch 1850, loss 0.25921908020973206\n",
      "epoch 1900, loss 0.2592172920703888\n",
      "epoch 1950, loss 0.25921571254730225\n",
      "epoch 2000, loss 0.25921425223350525\n",
      "epoch 2050, loss 0.25921300053596497\n",
      "epoch 2100, loss 0.25921186804771423\n",
      "epoch 2150, loss 0.25921082496643066\n",
      "epoch 2200, loss 0.25920990109443665\n",
      "epoch 2250, loss 0.2592090666294098\n",
      "epoch 2300, loss 0.2592083215713501\n",
      "epoch 2350, loss 0.25920769572257996\n",
      "epoch 2400, loss 0.2592070698738098\n",
      "epoch 2450, loss 0.25920653343200684\n",
      "epoch 2500, loss 0.25920602679252625\n",
      "epoch 2550, loss 0.2592056095600128\n",
      "epoch 2600, loss 0.2592052221298218\n",
      "epoch 2650, loss 0.25920483469963074\n",
      "epoch 2700, loss 0.25920453667640686\n",
      "epoch 2750, loss 0.259204238653183\n",
      "epoch 2800, loss 0.2592040002346039\n",
      "epoch 2850, loss 0.2592037618160248\n",
      "epoch 2900, loss 0.25920355319976807\n",
      "epoch 2950, loss 0.25920334458351135\n",
      "epoch 3000, loss 0.2592031955718994\n",
      "epoch 3050, loss 0.2592030465602875\n",
      "epoch 3100, loss 0.25920289754867554\n",
      "epoch 3150, loss 0.259202778339386\n",
      "epoch 3200, loss 0.25920265913009644\n",
      "epoch 3250, loss 0.2592025399208069\n",
      "epoch 3300, loss 0.2592024803161621\n",
      "epoch 3350, loss 0.25920239090919495\n",
      "epoch 3400, loss 0.2592023015022278\n",
      "epoch 3450, loss 0.259202241897583\n",
      "epoch 3500, loss 0.25920218229293823\n",
      "epoch 3550, loss 0.25920212268829346\n",
      "epoch 3600, loss 0.25920209288597107\n",
      "epoch 3650, loss 0.2592020332813263\n",
      "epoch 3700, loss 0.2592020034790039\n",
      "epoch 3750, loss 0.25920194387435913\n",
      "epoch 3800, loss 0.25920191407203674\n",
      "epoch 3850, loss 0.25920191407203674\n",
      "epoch 3900, loss 0.25920188426971436\n",
      "epoch 3950, loss 0.25920185446739197\n",
      "epoch 4000, loss 0.25920185446739197\n",
      "epoch 4050, loss 0.2592018246650696\n",
      "epoch 4100, loss 0.2592017948627472\n",
      "epoch 4150, loss 0.2592017948627472\n",
      "epoch 4200, loss 0.2592017650604248\n",
      "epoch 4250, loss 0.2592017650604248\n",
      "epoch 4300, loss 0.2592017650604248\n",
      "epoch 4350, loss 0.25920170545578003\n",
      "epoch 4400, loss 0.25920170545578003\n",
      "epoch 4450, loss 0.25920170545578003\n",
      "epoch 4500, loss 0.25920170545578003\n",
      "epoch 4550, loss 0.25920170545578003\n",
      "epoch 4600, loss 0.25920170545578003\n",
      "epoch 4650, loss 0.25920167565345764\n",
      "epoch 4700, loss 0.25920170545578003\n",
      "epoch 4750, loss 0.25920167565345764\n",
      "epoch 4800, loss 0.25920167565345764\n",
      "epoch 4850, loss 0.25920167565345764\n",
      "epoch 4900, loss 0.25920170545578003\n",
      "epoch 4950, loss 0.25920167565345764\n",
      "epoch 5000, loss 0.25920167565345764\n",
      "epoch 5050, loss 0.25920164585113525\n",
      "epoch 5100, loss 0.25920164585113525\n",
      "epoch 5150, loss 0.25920164585113525\n",
      "epoch 5200, loss 0.25920164585113525\n",
      "epoch 5250, loss 0.25920164585113525\n",
      "epoch 5300, loss 0.25920164585113525\n",
      "epoch 5350, loss 0.25920164585113525\n",
      "epoch 5400, loss 0.25920164585113525\n",
      "epoch 5450, loss 0.25920167565345764\n",
      "epoch 5500, loss 0.25920164585113525\n",
      "epoch 5550, loss 0.25920164585113525\n",
      "epoch 5600, loss 0.25920164585113525\n",
      "epoch 5650, loss 0.25920164585113525\n",
      "epoch 5700, loss 0.25920164585113525\n",
      "epoch 5750, loss 0.25920164585113525\n",
      "epoch 5800, loss 0.25920164585113525\n",
      "epoch 5850, loss 0.25920164585113525\n",
      "epoch 5900, loss 0.25920164585113525\n",
      "epoch 5950, loss 0.25920164585113525\n",
      "epoch 6000, loss 0.25920164585113525\n",
      "epoch 6050, loss 0.25920164585113525\n",
      "epoch 6100, loss 0.25920164585113525\n",
      "epoch 6150, loss 0.25920164585113525\n",
      "epoch 6200, loss 0.25920164585113525\n",
      "epoch 6250, loss 0.25920164585113525\n",
      "epoch 6300, loss 0.25920164585113525\n",
      "epoch 6350, loss 0.25920164585113525\n",
      "epoch 6400, loss 0.25920164585113525\n",
      "epoch 6450, loss 0.25920164585113525\n",
      "epoch 6500, loss 0.25920164585113525\n",
      "epoch 6550, loss 0.25920164585113525\n",
      "epoch 6600, loss 0.25920164585113525\n",
      "epoch 6650, loss 0.25920164585113525\n",
      "epoch 6700, loss 0.25920164585113525\n",
      "epoch 6750, loss 0.25920164585113525\n",
      "epoch 6800, loss 0.25920164585113525\n",
      "epoch 6850, loss 0.25920164585113525\n",
      "epoch 6900, loss 0.25920164585113525\n",
      "epoch 6950, loss 0.25920164585113525\n",
      "epoch 7000, loss 0.25920164585113525\n",
      "epoch 7050, loss 0.25920164585113525\n",
      "epoch 7100, loss 0.25920164585113525\n",
      "epoch 7150, loss 0.25920164585113525\n",
      "epoch 7200, loss 0.25920164585113525\n",
      "epoch 7250, loss 0.25920164585113525\n",
      "epoch 7300, loss 0.25920164585113525\n",
      "epoch 7350, loss 0.25920164585113525\n",
      "epoch 7400, loss 0.25920164585113525\n",
      "epoch 7450, loss 0.25920161604881287\n",
      "epoch 7500, loss 0.25920164585113525\n",
      "epoch 7550, loss 0.25920164585113525\n",
      "epoch 7600, loss 0.25920164585113525\n",
      "epoch 7650, loss 0.25920164585113525\n",
      "epoch 7700, loss 0.25920164585113525\n",
      "epoch 7750, loss 0.25920164585113525\n",
      "epoch 7800, loss 0.25920164585113525\n",
      "epoch 7850, loss 0.25920164585113525\n",
      "epoch 7900, loss 0.25920164585113525\n",
      "epoch 7950, loss 0.25920164585113525\n",
      "epoch 8000, loss 0.25920164585113525\n",
      "epoch 8050, loss 0.25920164585113525\n",
      "epoch 8100, loss 0.25920164585113525\n",
      "epoch 8150, loss 0.25920164585113525\n",
      "epoch 8200, loss 0.25920164585113525\n",
      "epoch 8250, loss 0.25920164585113525\n",
      "epoch 8300, loss 0.25920164585113525\n",
      "epoch 8350, loss 0.25920164585113525\n",
      "epoch 8400, loss 0.25920164585113525\n",
      "epoch 8450, loss 0.25920164585113525\n",
      "epoch 8500, loss 0.25920164585113525\n",
      "epoch 8550, loss 0.25920164585113525\n",
      "epoch 8600, loss 0.25920164585113525\n",
      "epoch 8650, loss 0.25920164585113525\n",
      "epoch 8700, loss 0.25920164585113525\n",
      "epoch 8750, loss 0.25920164585113525\n",
      "epoch 8800, loss 0.25920164585113525\n",
      "epoch 8850, loss 0.25920164585113525\n",
      "epoch 8900, loss 0.25920164585113525\n",
      "epoch 8950, loss 0.25920164585113525\n",
      "epoch 9000, loss 0.25920164585113525\n",
      "epoch 9050, loss 0.25920164585113525\n",
      "epoch 9100, loss 0.25920164585113525\n",
      "epoch 9150, loss 0.25920164585113525\n",
      "epoch 9200, loss 0.25920164585113525\n",
      "epoch 9250, loss 0.25920164585113525\n",
      "epoch 9300, loss 0.25920164585113525\n",
      "epoch 9350, loss 0.25920164585113525\n",
      "epoch 9400, loss 0.25920164585113525\n",
      "epoch 9450, loss 0.25920164585113525\n",
      "epoch 9500, loss 0.25920164585113525\n",
      "epoch 9550, loss 0.25920164585113525\n",
      "epoch 9600, loss 0.25920164585113525\n",
      "epoch 9650, loss 0.25920164585113525\n",
      "epoch 9700, loss 0.25920164585113525\n",
      "epoch 9750, loss 0.25920164585113525\n",
      "epoch 9800, loss 0.25920164585113525\n",
      "epoch 9850, loss 0.25920164585113525\n",
      "epoch 9900, loss 0.25920164585113525\n",
      "epoch 9950, loss 0.25920164585113525\n",
      "==> Finished Training\n"
     ]
    }
   ],
   "source": [
    "regressor.to(DEVICE)\n",
    "criterion.to(DEVICE)\n",
    "\n",
    "print('==> Start Training ...')\n",
    "\n",
    "train_loss = []\n",
    "\n",
    "for epoch in range(10000):\n",
    "\n",
    "    optimizer.zero_grad()\n",
    "    outputs = regressor(tensor_x_train.float())\n",
    "    loss = criterion(outputs, tensor_y_train.float())\n",
    "    \n",
    "    loss.backward()\n",
    "    optimizer.step()\n",
    "    \n",
    "    if epoch%50==0 :\n",
    "        print('epoch {}, loss {}'.format(epoch, loss.data))\n",
    "        train_loss.append(loss.data)\n",
    "    \n",
    "print('==> Finished Training')"
   ]
  },
  {
   "cell_type": "code",
   "execution_count": 163,
   "metadata": {},
   "outputs": [
    {
     "data": {
      "image/png": "[encoded data removed]",
      "text/plain": [
       "<Figure size 432x288 with 1 Axes>"
      ]
     },
     "metadata": {
      "needs_background": "light"
     },
     "output_type": "display_data"
    }
   ],
   "source": [
    "plt.plot(np.arange(len(train_loss)), train_loss)\n",
    "plt.show()"
   ]
  },
  {
   "cell_type": "code",
   "execution_count": 186,
   "metadata": {},
   "outputs": [
    {
     "data": {
      "text/plain": [
       "0.6272136641323804"
      ]
     },
     "execution_count": 186,
     "metadata": {},
     "output_type": "execute_result"
    }
   ],
   "source": [
    "from sklearn.metrics import r2_score\n",
    "\n",
    "r2_score(regressor(tensor_x_test.float()).data[:,0].cpu().numpy(), tensor_y_test.float().data[:,0].cpu().numpy())"
   ]
  },
  {
   "cell_type": "code",
   "execution_count": null,
   "metadata": {},
   "outputs": [],
   "source": []
  }
 ],
 "metadata": {
  "kernelspec": {
   "display_name": "Python 3",
   "language": "python",
   "name": "python3"
  },
  "language_info": {
   "codemirror_mode": {
    "name": "ipython",
    "version": 3
   },
   "file_extension": ".py",
   "mimetype": "text/x-python",
   "name": "python",
   "nbconvert_exporter": "python",
   "pygments_lexer": "ipython3",
   "version": "3.7.4"
  }
 },
 "nbformat": 4,
 "nbformat_minor": 2
}
