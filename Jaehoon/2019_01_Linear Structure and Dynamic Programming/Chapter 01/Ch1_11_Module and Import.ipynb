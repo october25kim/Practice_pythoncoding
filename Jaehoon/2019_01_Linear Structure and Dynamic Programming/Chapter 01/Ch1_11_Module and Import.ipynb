{
 "cells": [
  {
   "cell_type": "markdown",
   "metadata": {},
   "source": [
    "# Module and Import\n",
    "\n",
    "* See how to separate the source code files\n",
    "    - Just put your code in another file\n",
    "    - <i>filename<b>.py</b></i>\n",
    "\n",
    "\n",
    "* See how to use classes in other files\n",
    "    - <b>import</b> <i>filename</i>\n",
    "    \n",
    "\n",
    "* Use from to specify the directory, or the folder, path"
   ]
  },
  {
   "cell_type": "code",
   "execution_count": 1,
   "metadata": {},
   "outputs": [],
   "source": [
    "import Home"
   ]
  },
  {
   "cell_type": "code",
   "execution_count": 2,
   "metadata": {},
   "outputs": [
    {
     "name": "stdout",
     "output_type": "stream",
     "text": [
      "Built on Seoul KU\n",
      "Built at Mon Oct 28 16:18:18 2019\n",
      "Roof color is red , and door is closed\n"
     ]
    }
   ],
   "source": [
    "homeAtSeoul = Home.MyHome('Seoul KU')\n",
    "homeAtSeoul.printStatus()"
   ]
  },
  {
   "cell_type": "markdown",
   "metadata": {},
   "source": [
    "# Organizing Modules by Package\n",
    "\n",
    "* Directory, or folder\n",
    "    - Clusters modules\n",
    "        - Modules $\\rightarrow$ filename.py\n",
    "    - We call these directories as package\n",
    "    - Hence, the previous information is exactly\n",
    "        - from <i>package</i> <b>import</b> <i>module</i>\n",
    "        \n",
    "        \n",
    "\n",
    "* Package has\n",
    "    - \\_\\_init\\_\\_.py in the directory\n",
    "    - This is how to differentiate between the ordinary and the package directories"
   ]
  },
  {
   "cell_type": "markdown",
   "metadata": {},
   "source": [
    "예시:::\n",
    "\n",
    "\n",
    "<img src=\"img/11_01.PNG\">"
   ]
  },
  {
   "cell_type": "markdown",
   "metadata": {},
   "source": [
    "# Sample Program: Interaction with Your Program"
   ]
  },
  {
   "cell_type": "code",
   "execution_count": 3,
   "metadata": {},
   "outputs": [
    {
     "name": "stdout",
     "output_type": "stream",
     "text": [
      "Enter customer name :Moon\n",
      "Line : Moon \n",
      "Enter customer name :Sun\n",
      "Line : Moon Sun \n",
      "Enter customer name :->\n",
      "Precessed : Moon\n",
      "Line : Sun \n",
      "Enter customer name :.\n",
      "number of remaining customers : 1\n"
     ]
    }
   ],
   "source": [
    "class CashierLine:\n",
    "    lstLine = []\n",
    "    def addCustomer(self, strName):\n",
    "        self.lstLine.append(strName)\n",
    "    def processCustomer(self):\n",
    "        strReturnName = self.lstLine[0]\n",
    "        self.lstLine.remove(strReturnName)\n",
    "        return strReturnName\n",
    "    def printStatus(self):\n",
    "        strReturn = \"\"\n",
    "        for itr in range(len(self.lstLine)):\n",
    "            strReturn += self.lstLine[itr] + \" \"\n",
    "        return strReturn\n",
    "    \n",
    "\n",
    "binLoop = True\n",
    "line = CashierLine()\n",
    "while binLoop:\n",
    "    strName = input(\"Enter customer name :\")\n",
    "    if strName == \".\":\n",
    "        break\n",
    "    elif strName == \"->\":\n",
    "        print(\"Precessed :\", line.processCustomer())\n",
    "        print(\"Line :\", line.printStatus())\n",
    "    else:\n",
    "        line.addCustomer(strName)\n",
    "        print(\"Line :\", line.printStatus())\n",
    "print(\"number of remaining customers :\", len(line.lstLine))\n",
    "        "
   ]
  },
  {
   "cell_type": "markdown",
   "metadata": {},
   "source": [
    "# Sample Program: GUI in Python\n",
    "\n",
    "<img src=\"img/11_02.PNG\">"
   ]
  },
  {
   "cell_type": "code",
   "execution_count": 4,
   "metadata": {},
   "outputs": [
    {
     "name": "stdout",
     "output_type": "stream",
     "text": [
      "Built on Seoul KU\n",
      "Built at Mon Oct 28 17:04:45 2019\n"
     ]
    }
   ],
   "source": [
    "from tkinter import *\n",
    "import Home\n",
    "\n",
    "homeSeoul = Home.MyHome(\"Seoul KU\")\n",
    "\n",
    "def paintRoof():\n",
    "    strColor = txtColor.get(1.0, END)\n",
    "    homeSeoul.paintRoof(strColor)\n",
    "    lblColor['text'] = homeSeoul.colorRoof\n",
    "    \n",
    "\n",
    "root = Tk()\n",
    "\n",
    "txtColor = Text(root, width=20, height=2)\n",
    "lblColor = Label(root, text=homeSeoul.colorRoof, width=20, height=2)\n",
    "btnColor = Button(root, text=\"Paint the Roof\", width=20, height=1, command=paintRoof)\n",
    "\n",
    "txtColor.pack()\n",
    "lblColor.pack()\n",
    "btnColor.pack()\n",
    "\n",
    "root.mainloop()"
   ]
  }
 ],
 "metadata": {
  "kernelspec": {
   "display_name": "dmqa_pytorch",
   "language": "python",
   "name": "dmqa_pytorch"
  }
 },
 "nbformat": 4,
 "nbformat_minor": 2
}
