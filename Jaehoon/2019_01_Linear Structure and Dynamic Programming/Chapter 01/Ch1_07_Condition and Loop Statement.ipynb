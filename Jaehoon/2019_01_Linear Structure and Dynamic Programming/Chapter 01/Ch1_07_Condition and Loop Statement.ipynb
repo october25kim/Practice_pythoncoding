{
 "cells": [
  {
   "cell_type": "markdown",
   "metadata": {},
   "source": [
    "# if"
   ]
  },
  {
   "cell_type": "markdown",
   "metadata": {},
   "source": [
    "* A condition statement\n",
    "    - if boolean: <br> Statements for True\n",
    "    \n",
    "    - elif boolean: <br> Statements for True\n",
    "    \n",
    "    - else: <br> Statements for False\n",
    "    \n",
    "    \n",
    "* Python does not have a switch-case statement\n",
    "    - You will have to live with ifs\n",
    "    \n",
    "    \n",
    "* Watch your indentations carefully because that is your block statements"
   ]
  },
  {
   "cell_type": "code",
   "execution_count": 1,
   "metadata": {},
   "outputs": [
    {
     "name": "stdout",
     "output_type": "stream",
     "text": [
      "A\n"
     ]
    }
   ],
   "source": [
    "numScore = 95\n",
    "if numScore > 90:\n",
    "    print('A')"
   ]
  },
  {
   "cell_type": "code",
   "execution_count": 2,
   "metadata": {},
   "outputs": [
    {
     "name": "stdout",
     "output_type": "stream",
     "text": [
      "Lower grade\n"
     ]
    }
   ],
   "source": [
    "numScore = 75\n",
    "if numScore > 90:\n",
    "    print('A')\n",
    "else:\n",
    "    print('Lower grade')"
   ]
  },
  {
   "cell_type": "code",
   "execution_count": 3,
   "metadata": {},
   "outputs": [
    {
     "name": "stdout",
     "output_type": "stream",
     "text": [
      "C\n"
     ]
    }
   ],
   "source": [
    "if numScore > 90:\n",
    "    print('A')\n",
    "elif numScore > 80:\n",
    "    print('B')\n",
    "elif numScore > 70:\n",
    "    print('C')\n",
    "else:\n",
    "    print('D or F')"
   ]
  },
  {
   "cell_type": "markdown",
   "metadata": {},
   "source": [
    "# for"
   ]
  },
  {
   "cell_type": "markdown",
   "metadata": {},
   "source": [
    "* A loop statement\n",
    "\n",
    "\n",
    "* The most common loop statement in programming languages\n",
    "    - <b>for</b> <i>variable in sequence</i>: Statements for loop\n",
    "    - <b>else</b>: when for-loop is finished without a break\n",
    "\n",
    "\n",
    "* Some useful statements for loops\n",
    "    - continue\n",
    "    - break"
   ]
  },
  {
   "cell_type": "code",
   "execution_count": 4,
   "metadata": {},
   "outputs": [
    {
     "name": "stdout",
     "output_type": "stream",
     "text": [
      "0 1 2 3 4 5 6 7 8 9 "
     ]
    }
   ],
   "source": [
    "for itr in range(10):\n",
    "    print(itr, end=' ')"
   ]
  },
  {
   "cell_type": "code",
   "execution_count": 5,
   "metadata": {},
   "outputs": [
    {
     "name": "stdout",
     "output_type": "stream",
     "text": [
      "55\n"
     ]
    }
   ],
   "source": [
    "sum = 0\n",
    "for itr in range(1, 11):\n",
    "    sum += itr\n",
    "print(sum)"
   ]
  },
  {
   "cell_type": "code",
   "execution_count": 6,
   "metadata": {},
   "outputs": [
    {
     "name": "stdout",
     "output_type": "stream",
     "text": [
      "1 11 21 31 41 61 71 81 91 "
     ]
    }
   ],
   "source": [
    "for itr in range(1, 100, 10):\n",
    "    if itr == 51:\n",
    "        continue\n",
    "    else:\n",
    "        print(itr, end=' ')"
   ]
  },
  {
   "cell_type": "code",
   "execution_count": 7,
   "metadata": {},
   "outputs": [
    {
     "name": "stdout",
     "output_type": "stream",
     "text": [
      "0 1 2 3 4 !\n",
      "done\n"
     ]
    }
   ],
   "source": [
    "for itr in range(5):\n",
    "    print(itr, end=' ')\n",
    "else:\n",
    "    print('!')\n",
    "print('done')"
   ]
  },
  {
   "cell_type": "code",
   "execution_count": 10,
   "metadata": {},
   "outputs": [
    {
     "name": "stdout",
     "output_type": "stream",
     "text": [
      "0 1 2 done\n"
     ]
    }
   ],
   "source": [
    "for itr in range(5):\n",
    "    if itr == 3:\n",
    "        break\n",
    "    print(itr, end=' ')\n",
    "    \n",
    "else: \n",
    "    print('!')\n",
    "print('done')"
   ]
  },
  {
   "cell_type": "markdown",
   "metadata": {},
   "source": [
    "# while"
   ]
  },
  {
   "cell_type": "markdown",
   "metadata": {},
   "source": [
    "* Second loop statement\n",
    "\n",
    "\n",
    "* Syntax is...\n",
    "    - <b>while</b> <i>boolean</i>: Statements for loop\n",
    "    - <b>else</b>: when for-loop is finished without a break\n",
    "    \n",
    "    \n",
    "* Still you can use the two loop control statements\n",
    "    - continue\n",
    "    - break"
   ]
  },
  {
   "cell_type": "code",
   "execution_count": 12,
   "metadata": {},
   "outputs": [
    {
     "name": "stdout",
     "output_type": "stream",
     "text": [
      "Sum from 1 to 10 :  110\n"
     ]
    }
   ],
   "source": [
    "itr = 0\n",
    "sum_ = 0 #sum은 예약어이기 때문에 변수로 쓰지 않는게 좋다.\n",
    "while itr < 10:\n",
    "    itr = itr + 1\n",
    "    sum = sum + itr\n",
    "else:\n",
    "    print(\"Sum from 1 to 10 : \",sum)"
   ]
  },
  {
   "cell_type": "code",
   "execution_count": 14,
   "metadata": {},
   "outputs": [
    {
     "name": "stdout",
     "output_type": "stream",
     "text": [
      "Good bye\n"
     ]
    }
   ],
   "source": [
    "itr = sum_ = 0\n",
    "while itr < 10:\n",
    "    itr = itr + 1\n",
    "    if itr == 5:\n",
    "        break\n",
    "    sum = sum + itr\n",
    "else:\n",
    "    print(\"Sum from 1 to 10 : \",sum)\n",
    "    \n",
    "print(\"Good bye\")"
   ]
  }
 ],
 "metadata": {
  "kernelspec": {
   "display_name": "dmqa_pytorch",
   "language": "python",
   "name": "dmqa_pytorch"
  },
  "language_info": {
   "codemirror_mode": {
    "name": "ipython",
    "version": 3
   },
   "file_extension": ".py",
   "mimetype": "text/x-python",
   "name": "python",
   "nbconvert_exporter": "python",
   "pygments_lexer": "ipython3",
   "version": "3.7.4"
  }
 },
 "nbformat": 4,
 "nbformat_minor": 2
}
