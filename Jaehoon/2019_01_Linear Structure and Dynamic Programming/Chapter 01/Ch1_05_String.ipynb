{
 "cells": [
  {
   "cell_type": "markdown",
   "metadata": {},
   "source": [
    "# String\n",
    "<img src=\"img/05_01.PNG\">"
   ]
  },
  {
   "cell_type": "code",
   "execution_count": 1,
   "metadata": {},
   "outputs": [
    {
     "name": "stdout",
     "output_type": "stream",
     "text": [
      "Hello World! ISE\n",
      "Hello World! ISE True\n"
     ]
    }
   ],
   "source": [
    "# String variable statements Both of ' and \" work as wrappers. 즉 둘 중 아무거나 하나 쓰면 된다.\n",
    "strTest = 'Hello World! ISE'\n",
    "print(strTest)\n",
    "strTestComp = \"Hello World! ISE\"\n",
    "print(strTestComp, strTest == strTestComp)"
   ]
  },
  {
   "cell_type": "code",
   "execution_count": 2,
   "metadata": {},
   "outputs": [
    {
     "name": "stdout",
     "output_type": "stream",
     "text": [
      "H e\n",
      "E S\n"
     ]
    }
   ],
   "source": [
    "# String variable is actually a linear collection of letters, and the letters have indexes. 즉, 앞의 시작은 0, 끝의 시작은 -1이다.\n",
    "print(strTest[0], strTest[1])\n",
    "print(strTest[-1], strTest[-2])"
   ]
  },
  {
   "cell_type": "code",
   "execution_count": 3,
   "metadata": {},
   "outputs": [
    {
     "name": "stdout",
     "output_type": "stream",
     "text": [
      "16\n",
      "Hello World! ISE Dept\n",
      "Hello World! ISEHello World! ISE\n",
      "True\n",
      "False\n"
     ]
    }
   ],
   "source": [
    "print(len(strTest)) #글자수세기\n",
    "print(strTest+\" \"+\"Dept\") #문자열을 더하면 계속해서 쌓게 된다.\n",
    "print(strTest*2) #두번머겅\n",
    "\n",
    "# Existence check in collection variables\n",
    "print(\"ISE\" in strTest) #strTest에 할당된 String값에 \"ISE\"가 들어가니? - 응\n",
    "print(\"ISE\" not in strTest) #strTest에 할당된 String값에 \"ISE\"가 안 들어가니? - 아니"
   ]
  }
 ],
 "metadata": {
  "kernelspec": {
   "display_name": "dmqa_pytorch",
   "language": "python",
   "name": "dmqa_pytorch"
  },
  "language_info": {
   "codemirror_mode": {
    "name": "ipython",
    "version": 3
   },
   "file_extension": ".py",
   "mimetype": "text/x-python",
   "name": "python",
   "nbconvert_exporter": "python",
   "pygments_lexer": "ipython3",
   "version": "3.7.4"
  }
 },
 "nbformat": 4,
 "nbformat_minor": 2
}
