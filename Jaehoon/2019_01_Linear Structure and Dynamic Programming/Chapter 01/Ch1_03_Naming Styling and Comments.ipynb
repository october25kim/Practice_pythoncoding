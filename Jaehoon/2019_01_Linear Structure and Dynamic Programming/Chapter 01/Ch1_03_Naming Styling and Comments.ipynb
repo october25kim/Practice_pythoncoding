{
 "cells": [
  {
   "cell_type": "markdown",
   "metadata": {},
   "source": [
    "# Naming: Use names clearly conveying the meaning\n",
    "\n",
    "#### Use camel casing\n",
    "- Class name: Noun for the concept to be represented by the class\n",
    "    - Capitalize the first letter of each world\n",
    "    - e.g. class MyFirstClass:\n",
    "    \n",
    "\n",
    "- Variable name: Noun for the contents to be stored\n",
    "    - Start with lower case\n",
    "    - e.g. numberOfStudents = 100\n",
    "    - Acceptable, but not recommended in Python\n",
    "        - e.g. intCount = 0;\n",
    "        \n",
    "        \n",
    "- Method name: Verb for the method action\n",
    "    - Start with lower case\n",
    "    - e.g. def performAverage(self, val1, val2):\n",
    "\n",
    "\n",
    "#### Indentation\n",
    "- 4 spaces per each level"
   ]
  },
  {
   "cell_type": "markdown",
   "metadata": {},
   "source": [
    "# Comments"
   ]
  },
  {
   "cell_type": "markdown",
   "metadata": {},
   "source": [
    "Three of ' is the beginning and the ending of multiline comments"
   ]
  },
  {
   "cell_type": "code",
   "execution_count": 1,
   "metadata": {},
   "outputs": [
    {
     "data": {
      "text/plain": [
       "'\\nCreated on 2011.  8. 23.\\n\\n@auther: Kim Jae Hoon\\n'"
      ]
     },
     "execution_count": 1,
     "metadata": {},
     "output_type": "execute_result"
    }
   ],
   "source": [
    "'''\n",
    "Created on 2011.  8. 23.\n",
    "\n",
    "@auther: Kim Jae Hoon\n",
    "'''"
   ]
  },
  {
   "cell_type": "markdown",
   "metadata": {},
   "source": [
    "Three of \" is the beginning and the ending of multiline comments"
   ]
  },
  {
   "cell_type": "code",
   "execution_count": 2,
   "metadata": {},
   "outputs": [
    {
     "data": {
      "text/plain": [
       "'\\nCreated on 2011.  8. 23.\\n\\n@auther: Kim Jae Hoon\\n'"
      ]
     },
     "execution_count": 2,
     "metadata": {},
     "output_type": "execute_result"
    }
   ],
   "source": [
    "\"\"\"\n",
    "Created on 2011.  8. 23.\n",
    "\n",
    "@auther: Kim Jae Hoon\n",
    "\"\"\""
   ]
  },
  {
   "cell_type": "markdown",
   "metadata": {},
   "source": [
    "\\# is the beginning of single-line comments"
   ]
  },
  {
   "cell_type": "code",
   "execution_count": 3,
   "metadata": {},
   "outputs": [],
   "source": [
    "# Created on 2011.  8. 23.\n",
    "# @auther: Kim Jae Hoon"
   ]
  },
  {
   "cell_type": "markdown",
   "metadata": {},
   "source": [
    "#### Writing comments is critical\n",
    "\n",
    "- For TA\n",
    "$\\rightarrow$ your future boss\n",
    "\n",
    "- For your friends\n",
    "$\\rightarrow$ your futer colleagues\n",
    "\n",
    "- For yourself\n",
    "$\\rightarrow$ your in future\n",
    "\n",
    "\n",
    "#### Different types of comments"
   ]
  }
 ],
 "metadata": {
  "kernelspec": {
   "display_name": "dmqa_pytorch",
   "language": "python",
   "name": "dmqa_pytorch"
  },
  "language_info": {
   "codemirror_mode": {
    "name": "ipython",
    "version": 3
   },
   "file_extension": ".py",
   "mimetype": "text/x-python",
   "name": "python",
   "nbconvert_exporter": "python",
   "pygments_lexer": "ipython3",
   "version": "3.7.4"
  }
 },
 "nbformat": 4,
 "nbformat_minor": 2
}
