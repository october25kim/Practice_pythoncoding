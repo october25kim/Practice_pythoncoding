{
 "cells": [
  {
   "cell_type": "markdown",
   "metadata": {},
   "source": [
    "# Design and Programming"
   ]
  },
  {
   "cell_type": "markdown",
   "metadata": {},
   "source": [
    "<img src=\"img/01_01.PNG\">"
   ]
  },
  {
   "cell_type": "markdown",
   "metadata": {},
   "source": [
    "소프트웨어 디자인과 건축 디자인은 매우매우 닮아있다."
   ]
  },
  {
   "cell_type": "markdown",
   "metadata": {},
   "source": [
    "<img src=\"img/01_02.PNG\">"
   ]
  },
  {
   "cell_type": "markdown",
   "metadata": {},
   "source": [
    "학부였으면 암기를 했겠지만 이번엔 읽어만 봐야지 <span style=\"color:gray\">~꼭 전공책보면 이런거 있음;;; 맨날 세 개 다섯 개~</span>"
   ]
  },
  {
   "attachments": {},
   "cell_type": "markdown",
   "metadata": {},
   "source": [
    "<img src=\"img/01_03.PNG\">"
   ]
  },
  {
   "cell_type": "markdown",
   "metadata": {},
   "source": [
    "Object-Oriented Design의 컨셉은 현실에서의 개념은 추상화하여 프로그램으로 설계(모듈로 만들어 낸다)하는 것이다.\n",
    "\n",
    "예를 들어 은행시스템이라고 했을 때, 개념을\n",
    "Customer, Transaction, Banking으로 나눌 수 있다.\n",
    "\n",
    "여기서...\n",
    "- <b>Customer</b>는 개념<span style=\"color:blue\">이름</span>\n",
    "- <b>ID, AccountNum</b>은 개념<span style=\"color:blue\">특성</span>  \n",
    "- <b>login, requestWithdrawal, confirmSecurityCard</b>는 개념이 할 수 있는 <span style=\"color:blue\">행동</span>이다.\n",
    "\n",
    "이때 Real World Concept를 Software Design Entities로 바뀌주는 과정을 Abstract라고 한다. <br>\n",
    "이는 현실의 복잡한 개념을 우리가 관심있는 것을 대상으로 단순화하는 것이다."
   ]
  },
  {
   "cell_type": "markdown",
   "metadata": {},
   "source": [
    "<img src=\"img/01_04.PNG\">"
   ]
  },
  {
   "attachments": {},
   "cell_type": "markdown",
   "metadata": {},
   "source": [
    "<img src=\"img/01_05.PNG\">"
   ]
  }
 ],
 "metadata": {
  "kernelspec": {
   "display_name": "dmqa_pytorch",
   "language": "python",
   "name": "dmqa_pytorch"
  },
  "language_info": {
   "codemirror_mode": {
    "name": "ipython",
    "version": 3
   },
   "file_extension": ".py",
   "mimetype": "text/x-python",
   "name": "python",
   "nbconvert_exporter": "python",
   "pygments_lexer": "ipython3",
   "version": "3.7.4"
  }
 },
 "nbformat": 4,
 "nbformat_minor": 2
}
