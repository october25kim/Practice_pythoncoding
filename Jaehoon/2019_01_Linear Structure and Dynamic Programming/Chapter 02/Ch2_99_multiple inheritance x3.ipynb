{
 "cells": [
  {
   "cell_type": "code",
   "execution_count": null,
   "metadata": {},
   "outputs": [],
   "source": []
  },
  {
   "cell_type": "code",
   "execution_count": 5,
   "metadata": {},
   "outputs": [
    {
     "name": "stdout",
     "output_type": "stream",
     "text": [
      "1_1\n",
      "1_2\n",
      "1_3\n",
      "2\n",
      "3\n",
      "Hi! me\n",
      "4\n",
      "2\n",
      "3\n",
      "Hi! you\n",
      "4\n",
      "2\n",
      "3\n",
      "Hi! us\n",
      "4\n",
      "5_3\n",
      "5_2\n",
      "5_1\n"
     ]
    }
   ],
   "source": [
    "class me(object):\n",
    "    print('1_1')\n",
    "    def __init__(self):\n",
    "        print(2)\n",
    "        self.greeting = \"Hi! me\"\n",
    "        print(3)\n",
    "        print(self.greeting)\n",
    "        print(4)\n",
    "        super().__init__()\n",
    "        print('5_1')\n",
    "        \n",
    "class you(object):\n",
    "    print('1_2')\n",
    "    def __init__(self):\n",
    "        print(2)\n",
    "        self.greeting = \"Hi! you\"\n",
    "        print(3)\n",
    "        print(self.greeting)\n",
    "        print(4)\n",
    "        super().__init__()\n",
    "        print('5_2')\n",
    "        \n",
    "class us(object):\n",
    "    print('1_3')\n",
    "    def __init__(self):\n",
    "        print(2)\n",
    "        self.greeting = \"Hi! us\"\n",
    "        print(3)\n",
    "        print(self.greeting)\n",
    "        print(4)\n",
    "        super().__init__()\n",
    "        print('5_3')\n",
    "        \n",
    "        \n",
    "class we(me, you, us):\n",
    "    def __init__(self):\n",
    "        super().__init__()\n",
    "\n",
    "\n",
    "tmp = we()"
   ]
  },
  {
   "cell_type": "code",
   "execution_count": 2,
   "metadata": {},
   "outputs": [],
   "source": [
    "class me(object):\n",
    "    def __init__(self):\n",
    "        self.greeting = \"Hi! me\"\n",
    "        print(self.greeting)\n",
    "        super().__init__()\n",
    "        \n",
    "class you(object):\n",
    "    def __init__(self):\n",
    "        self.greeting = \"Hi! you\"\n",
    "        print(self.greeting)\n",
    "        super().__init__()\n",
    "        \n",
    "class us(object):\n",
    "    def __init__(self):\n",
    "        self.greeting = \"Hi! us\"\n",
    "        print(self.greeting)\n",
    "        super().__init__()\n",
    "        \n",
    "        \n",
    "class we(me, you, us):\n",
    "    def __init__(self):\n",
    "        super().__init__()"
   ]
  },
  {
   "cell_type": "code",
   "execution_count": 3,
   "metadata": {},
   "outputs": [
    {
     "data": {
      "text/plain": [
       "'Hi! us'"
      ]
     },
     "execution_count": 3,
     "metadata": {},
     "output_type": "execute_result"
    }
   ],
   "source": [
    "tmp.greeting"
   ]
  },
  {
   "cell_type": "code",
   "execution_count": 4,
   "metadata": {},
   "outputs": [
    {
     "data": {
      "text/plain": [
       "(__main__.we, __main__.me, __main__.you, __main__.us, object)"
      ]
     },
     "execution_count": 4,
     "metadata": {},
     "output_type": "execute_result"
    }
   ],
   "source": [
    "we.__mro__"
   ]
  },
  {
   "cell_type": "markdown",
   "metadata": {},
   "source": [
    "https://docs.python.org/3/library/functions.html#super\n",
    "\n",
    "https://rhettinger.wordpress.com/2011/05/26/super-considered-super/"
   ]
  }
 ],
 "metadata": {
  "kernelspec": {
   "display_name": "dmqa_pytorch",
   "language": "python",
   "name": "dmqa_pytorch"
  },
  "language_info": {
   "codemirror_mode": {
    "name": "ipython",
    "version": 3
   },
   "file_extension": ".py",
   "mimetype": "text/x-python",
   "name": "python",
   "nbconvert_exporter": "python",
   "pygments_lexer": "ipython3",
   "version": "3.7.4"
  }
 },
 "nbformat": 4,
 "nbformat_minor": 2
}
