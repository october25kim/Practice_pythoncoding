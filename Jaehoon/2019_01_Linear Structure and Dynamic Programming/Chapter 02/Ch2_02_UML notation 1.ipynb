{
 "cells": [
  {
   "cell_type": "markdown",
   "metadata": {},
   "source": [
    "# UML notation 1\n",
    "\n",
    "Unified Modeling Language\n",
    "\n",
    "* After your graduation, some of you will be constructors of software\n",
    "    - Mainly design\n",
    "    - Some coding\n",
    "\n",
    "\n",
    "* Need to learn how to communicate your colleagues\n",
    "    - Learn standard\n",
    "    - Learn how to represent your design to your boss\n",
    "    \n",
    "    \n",
    "* In software engineering\n",
    "    - UML is the standard"
   ]
  },
  {
   "cell_type": "markdown",
   "metadata": {},
   "source": [
    "<b> UML notation: Class and Instance</b>\n",
    "\n",
    "<img src=\"img/02_01.PNG\">"
   ]
  }
 ],
 "metadata": {
  "kernelspec": {
   "display_name": "dmqa_pytorch",
   "language": "python",
   "name": "dmqa_pytorch"
  },
  "language_info": {
   "codemirror_mode": {
    "name": "ipython",
    "version": 3
   },
   "file_extension": ".py",
   "mimetype": "text/x-python",
   "name": "python",
   "nbconvert_exporter": "python",
   "pygments_lexer": "ipython3",
   "version": "3.7.4"
  }
 },
 "nbformat": 4,
 "nbformat_minor": 2
}
