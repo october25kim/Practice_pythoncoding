{
 "cells": [
  {
   "cell_type": "markdown",
   "metadata": {},
   "source": [
    "# Inheritance\n",
    "\n",
    "* Inheritance\n",
    "    - Giving my attributes to my descendants\n",
    "        - My attributes include\n",
    "            - Member variables\n",
    "            - Methods\n",
    "\n",
    "\n",
    "    - My descendants may have new attributes of their own\n",
    "    - My descendants may mask the received attributes\n",
    "    - But, if not specified, sons follow their father\n",
    "\n",
    "\n",
    "* Superclass\n",
    "    - My ancestors, specifically my father\n",
    "    - Generalized from the conceptual view\n",
    "\n",
    "\n",
    "* Subclass\n",
    "    - My descendants, specifically my son\n",
    "    - Specialized from the conceptual view\n",
    "\n",
    "\n",
    "* How about having a mother?\n",
    "    - Yes. It is possible in Python"
   ]
  },
  {
   "cell_type": "markdown",
   "metadata": {},
   "source": [
    "<img src=\"img/03_01.PNG\">"
   ]
  },
  {
   "cell_type": "markdown",
   "metadata": {},
   "source": [
    "# Inheritance in Python"
   ]
  },
  {
   "cell_type": "code",
   "execution_count": 10,
   "metadata": {},
   "outputs": [],
   "source": [
    "class Father(object):\n",
    "    strHometown = \"Jeju\"\n",
    "    def __init__(self):\n",
    "        print(\"Father is created\")\n",
    "    def doFatherThing(self):\n",
    "        print(\"Father's action\")\n",
    "    def doRunning(self):\n",
    "        print(\"Slow\")\n",
    "        \n",
    "\n",
    "class Mother(object):\n",
    "    strHometown = \"Seoul\"\n",
    "    def __init__(self):\n",
    "        print(\"Mother is created\")\n",
    "    def doMotherThing(self):\n",
    "        print(\"Mother's action\")\n",
    "        \n",
    "        \n",
    "class Child(Father, Mother):\n",
    "    strName = 'Moon'\n",
    "    def __init__(self):\n",
    "        super(Child, self).__init__()\n",
    "        print(\"Child is created\")\n",
    "    def doRunning(self):\n",
    "        print(\"Fast\")"
   ]
  },
  {
   "cell_type": "markdown",
   "metadata": {},
   "source": [
    "<img src=\"img/04_01.PNG\">"
   ]
  },
  {
   "cell_type": "code",
   "execution_count": 11,
   "metadata": {},
   "outputs": [
    {
     "name": "stdout",
     "output_type": "stream",
     "text": [
      "Father is created\n",
      "Child is created\n"
     ]
    }
   ],
   "source": [
    "me = Child()"
   ]
  },
  {
   "cell_type": "code",
   "execution_count": 12,
   "metadata": {},
   "outputs": [
    {
     "name": "stdout",
     "output_type": "stream",
     "text": [
      "Father's action\n"
     ]
    }
   ],
   "source": [
    "me.doFatherThing()"
   ]
  },
  {
   "cell_type": "code",
   "execution_count": 13,
   "metadata": {},
   "outputs": [
    {
     "name": "stdout",
     "output_type": "stream",
     "text": [
      "Mother's action\n"
     ]
    }
   ],
   "source": [
    "me.doMotherThing()"
   ]
  },
  {
   "cell_type": "code",
   "execution_count": 14,
   "metadata": {},
   "outputs": [
    {
     "name": "stdout",
     "output_type": "stream",
     "text": [
      "Fast\n"
     ]
    }
   ],
   "source": [
    "me.doRunning()"
   ]
  },
  {
   "cell_type": "code",
   "execution_count": 15,
   "metadata": {},
   "outputs": [
    {
     "name": "stdout",
     "output_type": "stream",
     "text": [
      "Jeju\n"
     ]
    }
   ],
   "source": [
    "print(me.strHometown)"
   ]
  },
  {
   "cell_type": "code",
   "execution_count": 16,
   "metadata": {},
   "outputs": [
    {
     "name": "stdout",
     "output_type": "stream",
     "text": [
      "Moon\n"
     ]
    }
   ],
   "source": [
    "print(me.strName)"
   ]
  },
  {
   "cell_type": "markdown",
   "metadata": {},
   "source": [
    "# <i>self</i> and <i>super</i>\n",
    "\n",
    "* <i>self</i>: reference variable pointing the instance itself\n",
    "\n",
    "\n",
    "* <i>super</i>: reference variable pointing the base class instance\n",
    "    - super is used to call the base class methods"
   ]
  },
  {
   "cell_type": "code",
   "execution_count": 18,
   "metadata": {},
   "outputs": [],
   "source": [
    "class Father(object):\n",
    "    strHometown = \"Jeju\"\n",
    "    def __init__(self, paramHome):\n",
    "        self.strHometown = paramHome\n",
    "        print(\"Father is created\")\n",
    "    def doFatherThing(self):\n",
    "        print(\"Father's action\")\n",
    "    def doRunning(self):\n",
    "        print(\"Slow\")\n",
    "        \n",
    "\n",
    "class Mother(object):\n",
    "    strHometown = \"Seoul\"\n",
    "    def __init__(self):\n",
    "        print(\"Mother is created\")\n",
    "    def doMotherThing(self):\n",
    "        print(\"Mother's action\")\n",
    "\n",
    "\n",
    "class Child(Father, Mother):\n",
    "    strName = 'Moon'\n",
    "    def __init__(self, paramName, paramHome):\n",
    "        super(Child, self).__init__(paramHome) #Referring Father to point Father's attributes\n",
    "        self.strName = paramName #Referring itself to point its attributes\n",
    "        print(\"Child is created\")\n",
    "    def doRunning(self):\n",
    "        print(\"Fast\")"
   ]
  },
  {
   "cell_type": "code",
   "execution_count": 19,
   "metadata": {},
   "outputs": [
    {
     "name": "stdout",
     "output_type": "stream",
     "text": [
      "Father is created\n",
      "Child is created\n"
     ]
    }
   ],
   "source": [
    "me = Child(\"Sun\", \"Universe\")"
   ]
  },
  {
   "cell_type": "code",
   "execution_count": 20,
   "metadata": {},
   "outputs": [
    {
     "name": "stdout",
     "output_type": "stream",
     "text": [
      "Father's action\n"
     ]
    }
   ],
   "source": [
    "me.doFatherThing()"
   ]
  },
  {
   "cell_type": "code",
   "execution_count": 21,
   "metadata": {},
   "outputs": [
    {
     "name": "stdout",
     "output_type": "stream",
     "text": [
      "Mother's action\n"
     ]
    }
   ],
   "source": [
    "me.doMotherThing()"
   ]
  },
  {
   "cell_type": "code",
   "execution_count": 22,
   "metadata": {},
   "outputs": [
    {
     "name": "stdout",
     "output_type": "stream",
     "text": [
      "Fast\n"
     ]
    }
   ],
   "source": [
    "me.doRunning()"
   ]
  },
  {
   "cell_type": "code",
   "execution_count": 23,
   "metadata": {},
   "outputs": [
    {
     "name": "stdout",
     "output_type": "stream",
     "text": [
      "Universe\n"
     ]
    }
   ],
   "source": [
    "print(me.strHometown)"
   ]
  },
  {
   "cell_type": "code",
   "execution_count": 24,
   "metadata": {},
   "outputs": [
    {
     "name": "stdout",
     "output_type": "stream",
     "text": [
      "Sun\n"
     ]
    }
   ],
   "source": [
    "print(me.strName)"
   ]
  }
 ],
 "metadata": {
  "kernelspec": {
   "display_name": "dmqa_pytorch",
   "language": "python",
   "name": "dmqa_pytorch"
  },
  "language_info": {
   "codemirror_mode": {
    "name": "ipython",
    "version": 3
   },
   "file_extension": ".py",
   "mimetype": "text/x-python",
   "name": "python",
   "nbconvert_exporter": "python",
   "pygments_lexer": "ipython3",
   "version": "3.7.4"
  }
 },
 "nbformat": 4,
 "nbformat_minor": 2
}
