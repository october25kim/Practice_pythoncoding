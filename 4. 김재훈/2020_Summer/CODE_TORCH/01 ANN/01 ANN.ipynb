{
 "cells": [
  {
   "cell_type": "markdown",
   "metadata": {},
   "source": [
    "# ANN with Fashion MNIST\n",
    "\n",
    "<img src=\"img/00_title.PNG\">"
   ]
  },
  {
   "cell_type": "code",
   "execution_count": 1,
   "metadata": {},
   "outputs": [],
   "source": [
    "import os\n",
    "import gzip # .gz 확장자로 끝나는 압축파일을 열 때 사용한다.\n",
    "\n",
    "import numpy as np\n",
    "import pandas as pd\n",
    "import matplotlib.pyplot as plt"
   ]
  },
  {
   "cell_type": "markdown",
   "metadata": {},
   "source": [
    "# 1. 데이터 불러오기"
   ]
  },
  {
   "cell_type": "code",
   "execution_count": 2,
   "metadata": {},
   "outputs": [],
   "source": [
    "f_lst = os.listdir('./data')\n",
    "path = './data'"
   ]
  },
  {
   "cell_type": "code",
   "execution_count": 3,
   "metadata": {},
   "outputs": [
    {
     "data": {
      "text/plain": [
       "['fashion-mnist_test.csv',\n",
       " 'fashion-mnist_train.csv',\n",
       " 't10k-images-idx3-ubyte.gz',\n",
       " 't10k-labels-idx1-ubyte.gz',\n",
       " 'train-images-idx3-ubyte.gz',\n",
       " 'train-labels-idx1-ubyte.gz']"
      ]
     },
     "execution_count": 3,
     "metadata": {},
     "output_type": "execute_result"
    }
   ],
   "source": [
    "f_lst"
   ]
  },
  {
   "cell_type": "code",
   "execution_count": 4,
   "metadata": {},
   "outputs": [],
   "source": [
    "def load_mnist(path, kind='train'):\n",
    "    \n",
    "    data_path = os.path.join(path, f'{kind}-images-idx3-ubyte.gz')\n",
    "    labels_path = os.path.join(path, f'{kind}-labels-idx1-ubyte.gz')\n",
    "    \n",
    "    with gzip.open(labels_path, 'rb') as f_l:\n",
    "        labels = np.frombuffer(f_l.read(), dtype=np.uint8, offset=8)\n",
    "        \n",
    "    with gzip.open(data_path, 'rb') as f_d:\n",
    "        data = np.frombuffer(f_d.read(), dtype=np.uint8, offset=16).reshape((len(labels),784))\n",
    "        \n",
    "    return data, labels"
   ]
  },
  {
   "cell_type": "markdown",
   "metadata": {},
   "source": [
    "### 이미지 파일 개별로 저장하기"
   ]
  },
  {
   "cell_type": "code",
   "execution_count": 5,
   "metadata": {},
   "outputs": [],
   "source": [
    "img_data, img_label = load_mnist('./data', kind='t10k')\n",
    "print(img_data.shape)\n",
    "for idx, data in enumerate(zip(img_data, img_label)):\n",
    "    np.savez(f'./sdata/test/test_{idx}', img=data[0].reshape(28,28), label=data[1])"
   ]
  },
  {
   "cell_type": "code",
   "execution_count": 6,
   "metadata": {},
   "outputs": [],
   "source": [
    "img_data, img_label = load_mnist('./data', kind='train')\n",
    "img_data.shape\n",
    "for idx, data in enumerate(zip(img_data, img_label)):\n",
    "    np.savez(f'./sdata/train/train_{idx}', img=data[0].reshape(28,28), label=data[1])"
   ]
  },
  {
   "cell_type": "markdown",
   "metadata": {},
   "source": [
    "# 2. DataLoader 설정하기"
   ]
  },
  {
   "cell_type": "code",
   "execution_count": 8,
   "metadata": {},
   "outputs": [],
   "source": [
    "import torch\n",
    "import torch.nn as nn\n",
    "import torch.optim as optim\n",
    "import torch.nn.functional as F\n",
    "\n",
    "from torch.utils import data\n",
    "from torchvision import transforms\n",
    "\n",
    "from tqdm import tqdm"
   ]
  },
  {
   "cell_type": "code",
   "execution_count": 9,
   "metadata": {},
   "outputs": [],
   "source": [
    "BATCH_SIZE = 64"
   ]
  },
  {
   "cell_type": "code",
   "execution_count": 10,
   "metadata": {},
   "outputs": [],
   "source": [
    "class FASHION10(data.Dataset):\n",
    "    \n",
    "    def __init__(self, root_dir='./sdata', split='train', transform=False):\n",
    "        super().__init__()\n",
    "        self.split = split\n",
    "        self.root_dir = root_dir\n",
    "        self.transform = transform\n",
    "        if self.split == 'train':\n",
    "            self.train_dir = os.path.join(self.root_dir, \"train\")\n",
    "            self.train_img = sorted(os.listdir(os.path.join(self.train_dir)))\n",
    "            self.train_paths = [os.path.join(self.train_dir, self.train_img[idx])\n",
    "                               for idx in range(len(self.train_img))]\n",
    "        \n",
    "        elif self.split == 'test':\n",
    "            self.test_dir = os.path.join(self.root_dir, \"test\")\n",
    "            self.test_img = sorted(os.listdir(os.path.join(self.test_dir)))\n",
    "            self.test_paths = [os.path.join(self.test_dir, self.test_img[idx])\n",
    "                               for idx in range(len(self.test_img))]\n",
    "        \n",
    "        else:\n",
    "            raise NotImplementedError\n",
    "        \n",
    "        \n",
    "    def __len__(self):\n",
    "        if self.split == 'train':\n",
    "            return len(self.train_img)\n",
    "        elif self.split == 'test':\n",
    "            return len(self.test_img)\n",
    "        else:\n",
    "            raise NotImplementedError\n",
    "        \n",
    "        return len(self.npz_lst)\n",
    "    \n",
    "    \n",
    "    def __getitem__(self, idx):\n",
    "        img, label = self.pairing(idx)\n",
    "        \n",
    "        pair = {'img': img, 'label':label}\n",
    "        \n",
    "        if self.transform:\n",
    "            pair = self.transform_totensor(pair)\n",
    "    \n",
    "        return pair\n",
    "    \n",
    "    \n",
    "    def pairing(self, idx):\n",
    "        if self.split == 'train':\n",
    "            img, label = np.load(self.train_paths[idx]).values()\n",
    "            return img, label\n",
    "        \n",
    "        elif self.split == 'test':\n",
    "            img, label = np.load(self.test_paths[idx]).values()\n",
    "            return img, label\n",
    "        \n",
    "    def transform_totensor(self, pair):\n",
    "        original_transforms = transforms.Compose([\n",
    "            transforms.ToTensor()\n",
    "        ])\n",
    "        \n",
    "        label_transforms = transforms.Compose([\n",
    "            transforms.ToTensor()\n",
    "        ])\n",
    "\n",
    "        _img, _label = original_transforms(pair['img']), torch.from_numpy(pair['label']).long()\n",
    "        return {'img':_img, 'label':_label}"
   ]
  },
  {
   "cell_type": "code",
   "execution_count": 11,
   "metadata": {},
   "outputs": [
    {
     "name": "stdout",
     "output_type": "stream",
     "text": [
      "loading Train Set\n",
      "loading Test Set\n"
     ]
    }
   ],
   "source": [
    "# transform = transforms.Compose([transforms.ToTensor()])\n",
    "#transform = None\n",
    "print('loading Train Set')\n",
    "train_loader = data.DataLoader(\n",
    "    dataset = FASHION10(split='train', transform=True),\n",
    "    batch_size = BATCH_SIZE,\n",
    "    shuffle = True\n",
    ")\n",
    "\n",
    "print('loading Test Set')\n",
    "test_loader = data.DataLoader(\n",
    "    dataset = FASHION10(split='test', transform=True),\n",
    "    batch_size = BATCH_SIZE,\n",
    "    shuffle = True\n",
    ")"
   ]
  },
  {
   "cell_type": "markdown",
   "metadata": {},
   "source": [
    "# 3. 모델 구축 및 학습하기"
   ]
  },
  {
   "cell_type": "code",
   "execution_count": 12,
   "metadata": {},
   "outputs": [
    {
     "name": "stdout",
     "output_type": "stream",
     "text": [
      "True\n"
     ]
    }
   ],
   "source": [
    "USE_CUDA = torch.cuda.is_available()\n",
    "print(USE_CUDA)"
   ]
  },
  {
   "cell_type": "code",
   "execution_count": 13,
   "metadata": {},
   "outputs": [],
   "source": [
    "DEVICE = torch.device(\"cuda\" if USE_CUDA else \"cpu\")"
   ]
  },
  {
   "cell_type": "code",
   "execution_count": 14,
   "metadata": {},
   "outputs": [],
   "source": [
    "EPOCHS = 30"
   ]
  },
  {
   "cell_type": "code",
   "execution_count": 15,
   "metadata": {},
   "outputs": [],
   "source": [
    "class ANN(nn.Module):\n",
    "    def __init__(self):\n",
    "        super(ANN, self).__init__()\n",
    "        self.fc1 = nn.Linear(784, 256)\n",
    "        self.fc2 = nn.Linear(256, 128)\n",
    "        self.fc3 = nn.Linear(128, 10)\n",
    "        \n",
    "    def forward(self, x):\n",
    "        x = x.view(-1, 784)\n",
    "        x = F.relu(self.fc1(x))\n",
    "        x = F.relu(self.fc2(x))\n",
    "        x = self.fc3(x)\n",
    "        return x"
   ]
  },
  {
   "cell_type": "code",
   "execution_count": 16,
   "metadata": {},
   "outputs": [],
   "source": [
    "model = ANN().to(DEVICE)"
   ]
  },
  {
   "cell_type": "code",
   "execution_count": 17,
   "metadata": {},
   "outputs": [],
   "source": [
    "optimizer = optim.SGD(model.parameters(), lr=0.01, momentum=0.9)"
   ]
  },
  {
   "cell_type": "code",
   "execution_count": 18,
   "metadata": {},
   "outputs": [],
   "source": [
    "def train(model, train_loader, optimizer):\n",
    "    train_loss = 0.0\n",
    "    train_losses = []\n",
    "    model.train()\n",
    "    with tqdm(total=len(train_loader)) as tbar:        \n",
    "        for batch_idx, sample in enumerate(train_loader):\n",
    "            img = sample['img'].to(DEVICE)\n",
    "            label = sample['label'].to(DEVICE)\n",
    "            \n",
    "            optimizer.zero_grad()\n",
    "            output = model(img)\n",
    "            \n",
    "            loss = F.cross_entropy(output, label)\n",
    "            loss.backward()\n",
    "            optimizer.step()\n",
    "            \n",
    "            train_loss += loss.item()\n",
    "            tbar.set_description('Train loss: %.3f'%(train_loss/(batch_idx+1)))\n",
    "            tbar.update(1)\n",
    "    train_loss /= (batch_idx+1)\n",
    "    train_losses.append(train_loss)\n",
    "    print('[Epoch: %d, numImages: %5d]' % (epoch, batch_idx * BATCH_SIZE + img.data.shape[0]))\n",
    "    print('Loss: %.3f' % train_loss)\n",
    "    \n",
    "    return train_losses"
   ]
  },
  {
   "cell_type": "code",
   "execution_count": 19,
   "metadata": {},
   "outputs": [],
   "source": [
    "def test(model, test_loader):\n",
    "    test_loss = 0.0\n",
    "    correct = 0\n",
    "    test_losses = []\n",
    "    model.eval()\n",
    "    with tqdm(total=len(test_loader)) as tbar:\n",
    "        for batch_idx, sample in enumerate(test_loader):\n",
    "            img = sample['img'].to(DEVICE)\n",
    "            label = sample['label'].to(DEVICE)\n",
    "            \n",
    "            with torch.no_grad():\n",
    "                output = model(img)\n",
    "            \n",
    "            loss = F.cross_entropy(output, label)\n",
    "            \n",
    "            test_loss += loss.item()\n",
    "            pred = output.max(1, keepdim=True)[1]\n",
    "            correct += pred.eq(label.view_as(pred)).sum().item()\n",
    "            \n",
    "            tbar.set_description('Test loss: %.3f'%(test_loss/(batch_idx+1)))\n",
    "            tbar.update(1)\n",
    "    test_loss /= (batch_idx+1)\n",
    "    test_losses.append(test_loss)\n",
    "    print('[Epoch: %d, numImages: %5d]' % (epoch, batch_idx * BATCH_SIZE + img.data.shape[0]))\n",
    "    print('Loss: %.3f' % test_loss)\n",
    "    print('ACC: %.3f' % (100. * correct / len(test_loader.dataset)))\n",
    "    \n",
    "    return test_losses"
   ]
  },
  {
   "cell_type": "code",
   "execution_count": 20,
   "metadata": {
    "scrolled": true
   },
   "outputs": [
    {
     "name": "stderr",
     "output_type": "stream",
     "text": [
      "Train loss: 0.682: 100%|█████████████████████████████████████████████████████████████| 938/938 [00:52<00:00, 17.83it/s]\n",
      "Test loss: 0.508:   1%|▊                                                               | 2/157 [00:00<00:08, 18.18it/s]"
     ]
    },
    {
     "name": "stdout",
     "output_type": "stream",
     "text": [
      "[Epoch: 1, numImages: 60000]\n",
      "Loss: 0.682\n"
     ]
    },
    {
     "name": "stderr",
     "output_type": "stream",
     "text": [
      "Test loss: 0.501: 100%|██████████████████████████████████████████████████████████████| 157/157 [00:08<00:00, 18.33it/s]\n",
      "Train loss: 0.501:   0%|▏                                                              | 2/938 [00:00<00:55, 16.95it/s]"
     ]
    },
    {
     "name": "stdout",
     "output_type": "stream",
     "text": [
      "[Epoch: 1, numImages: 10000]\n",
      "Loss: 0.501\n",
      "ACC: 81.910\n"
     ]
    },
    {
     "name": "stderr",
     "output_type": "stream",
     "text": [
      "Train loss: 0.427: 100%|█████████████████████████████████████████████████████████████| 938/938 [00:53<00:00, 17.51it/s]\n",
      "Test loss: 0.401:   1%|▊                                                               | 2/157 [00:00<00:08, 18.69it/s]"
     ]
    },
    {
     "name": "stdout",
     "output_type": "stream",
     "text": [
      "[Epoch: 2, numImages: 60000]\n",
      "Loss: 0.427\n"
     ]
    },
    {
     "name": "stderr",
     "output_type": "stream",
     "text": [
      "Test loss: 0.428: 100%|██████████████████████████████████████████████████████████████| 157/157 [00:08<00:00, 18.59it/s]\n",
      "Train loss: 0.448:   0%|▏                                                              | 2/938 [00:00<00:56, 16.53it/s]"
     ]
    },
    {
     "name": "stdout",
     "output_type": "stream",
     "text": [
      "[Epoch: 2, numImages: 10000]\n",
      "Loss: 0.428\n",
      "ACC: 84.870\n"
     ]
    },
    {
     "name": "stderr",
     "output_type": "stream",
     "text": [
      "Train loss: 0.376: 100%|█████████████████████████████████████████████████████████████| 938/938 [00:52<00:00, 17.84it/s]\n",
      "Test loss: 0.413:   1%|▊                                                               | 2/157 [00:00<00:08, 18.18it/s]"
     ]
    },
    {
     "name": "stdout",
     "output_type": "stream",
     "text": [
      "[Epoch: 3, numImages: 60000]\n",
      "Loss: 0.376\n"
     ]
    },
    {
     "name": "stderr",
     "output_type": "stream",
     "text": [
      "Test loss: 0.426: 100%|██████████████████████████████████████████████████████████████| 157/157 [00:08<00:00, 18.46it/s]\n",
      "Train loss: 0.394:   0%|▏                                                              | 2/938 [00:00<00:55, 16.81it/s]"
     ]
    },
    {
     "name": "stdout",
     "output_type": "stream",
     "text": [
      "[Epoch: 3, numImages: 10000]\n",
      "Loss: 0.426\n",
      "ACC: 84.940\n"
     ]
    },
    {
     "name": "stderr",
     "output_type": "stream",
     "text": [
      "Train loss: 0.349: 100%|█████████████████████████████████████████████████████████████| 938/938 [00:52<00:00, 17.81it/s]\n",
      "Test loss: 0.414:   1%|▊                                                               | 2/157 [00:00<00:08, 18.52it/s]"
     ]
    },
    {
     "name": "stdout",
     "output_type": "stream",
     "text": [
      "[Epoch: 4, numImages: 60000]\n",
      "Loss: 0.349\n"
     ]
    },
    {
     "name": "stderr",
     "output_type": "stream",
     "text": [
      "Test loss: 0.402: 100%|██████████████████████████████████████████████████████████████| 157/157 [00:08<00:00, 18.46it/s]\n",
      "Train loss: 0.373:   0%|▏                                                              | 2/938 [00:00<00:55, 16.95it/s]"
     ]
    },
    {
     "name": "stdout",
     "output_type": "stream",
     "text": [
      "[Epoch: 4, numImages: 10000]\n",
      "Loss: 0.402\n",
      "ACC: 85.420\n"
     ]
    },
    {
     "name": "stderr",
     "output_type": "stream",
     "text": [
      "Train loss: 0.327: 100%|█████████████████████████████████████████████████████████████| 938/938 [00:52<00:00, 17.93it/s]\n",
      "Test loss: 0.323:   1%|▊                                                               | 2/157 [00:00<00:08, 18.33it/s]"
     ]
    },
    {
     "name": "stdout",
     "output_type": "stream",
     "text": [
      "[Epoch: 5, numImages: 60000]\n",
      "Loss: 0.327\n"
     ]
    },
    {
     "name": "stderr",
     "output_type": "stream",
     "text": [
      "Test loss: 0.367: 100%|██████████████████████████████████████████████████████████████| 157/157 [00:08<00:00, 18.35it/s]\n",
      "Train loss: 0.224:   0%|▏                                                              | 2/938 [00:00<00:55, 16.95it/s]"
     ]
    },
    {
     "name": "stdout",
     "output_type": "stream",
     "text": [
      "[Epoch: 5, numImages: 10000]\n",
      "Loss: 0.367\n",
      "ACC: 86.760\n"
     ]
    },
    {
     "name": "stderr",
     "output_type": "stream",
     "text": [
      "Train loss: 0.313: 100%|█████████████████████████████████████████████████████████████| 938/938 [00:52<00:00, 17.91it/s]\n",
      "Test loss: 0.384:   2%|█▏                                                              | 3/157 [00:00<00:08, 18.69it/s]"
     ]
    },
    {
     "name": "stdout",
     "output_type": "stream",
     "text": [
      "[Epoch: 6, numImages: 60000]\n",
      "Loss: 0.313\n"
     ]
    },
    {
     "name": "stderr",
     "output_type": "stream",
     "text": [
      "Test loss: 0.364: 100%|██████████████████████████████████████████████████████████████| 157/157 [00:08<00:00, 18.48it/s]\n",
      "Train loss: 0.263:   0%|▏                                                              | 2/938 [00:00<00:55, 16.95it/s]"
     ]
    },
    {
     "name": "stdout",
     "output_type": "stream",
     "text": [
      "[Epoch: 6, numImages: 10000]\n",
      "Loss: 0.364\n",
      "ACC: 86.770\n"
     ]
    },
    {
     "name": "stderr",
     "output_type": "stream",
     "text": [
      "Train loss: 0.300: 100%|█████████████████████████████████████████████████████████████| 938/938 [00:52<00:00, 17.79it/s]\n",
      "Test loss: 0.335:   1%|▊                                                               | 2/157 [00:00<00:08, 18.35it/s]"
     ]
    },
    {
     "name": "stdout",
     "output_type": "stream",
     "text": [
      "[Epoch: 7, numImages: 60000]\n",
      "Loss: 0.300\n"
     ]
    },
    {
     "name": "stderr",
     "output_type": "stream",
     "text": [
      "Test loss: 0.358: 100%|██████████████████████████████████████████████████████████████| 157/157 [00:08<00:00, 18.42it/s]\n",
      "Train loss: 0.302:   0%|▏                                                              | 2/938 [00:00<00:56, 16.53it/s]"
     ]
    },
    {
     "name": "stdout",
     "output_type": "stream",
     "text": [
      "[Epoch: 7, numImages: 10000]\n",
      "Loss: 0.358\n",
      "ACC: 87.160\n"
     ]
    },
    {
     "name": "stderr",
     "output_type": "stream",
     "text": [
      "Train loss: 0.287: 100%|█████████████████████████████████████████████████████████████| 938/938 [00:52<00:00, 17.91it/s]\n",
      "Test loss: 0.228:   1%|▊                                                               | 2/157 [00:00<00:08, 18.52it/s]"
     ]
    },
    {
     "name": "stdout",
     "output_type": "stream",
     "text": [
      "[Epoch: 8, numImages: 60000]\n",
      "Loss: 0.287\n"
     ]
    },
    {
     "name": "stderr",
     "output_type": "stream",
     "text": [
      "Test loss: 0.344: 100%|██████████████████████████████████████████████████████████████| 157/157 [00:08<00:00, 18.56it/s]\n",
      "Train loss: 0.290:   0%|▏                                                              | 2/938 [00:00<00:55, 16.81it/s]"
     ]
    },
    {
     "name": "stdout",
     "output_type": "stream",
     "text": [
      "[Epoch: 8, numImages: 10000]\n",
      "Loss: 0.344\n",
      "ACC: 87.480\n"
     ]
    },
    {
     "name": "stderr",
     "output_type": "stream",
     "text": [
      "Train loss: 0.279: 100%|█████████████████████████████████████████████████████████████| 938/938 [00:52<00:00, 17.86it/s]\n",
      "Test loss: 0.328:   1%|▊                                                               | 2/157 [00:00<00:08, 17.39it/s]"
     ]
    },
    {
     "name": "stdout",
     "output_type": "stream",
     "text": [
      "[Epoch: 9, numImages: 60000]\n",
      "Loss: 0.279\n"
     ]
    },
    {
     "name": "stderr",
     "output_type": "stream",
     "text": [
      "Test loss: 0.343: 100%|██████████████████████████████████████████████████████████████| 157/157 [00:08<00:00, 18.43it/s]\n",
      "Train loss: 0.241:   0%|▏                                                              | 2/938 [00:00<00:55, 16.95it/s]"
     ]
    },
    {
     "name": "stdout",
     "output_type": "stream",
     "text": [
      "[Epoch: 9, numImages: 10000]\n",
      "Loss: 0.343\n",
      "ACC: 87.640\n"
     ]
    },
    {
     "name": "stderr",
     "output_type": "stream",
     "text": [
      "Train loss: 0.270: 100%|█████████████████████████████████████████████████████████████| 938/938 [00:52<00:00, 17.89it/s]\n",
      "Test loss: 0.379:   1%|▊                                                               | 2/157 [00:00<00:08, 18.52it/s]"
     ]
    },
    {
     "name": "stdout",
     "output_type": "stream",
     "text": [
      "[Epoch: 10, numImages: 60000]\n",
      "Loss: 0.270\n"
     ]
    },
    {
     "name": "stderr",
     "output_type": "stream",
     "text": [
      "Test loss: 0.333: 100%|██████████████████████████████████████████████████████████████| 157/157 [00:08<00:00, 18.54it/s]\n",
      "Train loss: 0.213:   0%|▏                                                              | 2/938 [00:00<00:54, 17.24it/s]"
     ]
    },
    {
     "name": "stdout",
     "output_type": "stream",
     "text": [
      "[Epoch: 10, numImages: 10000]\n",
      "Loss: 0.333\n",
      "ACC: 87.930\n"
     ]
    },
    {
     "name": "stderr",
     "output_type": "stream",
     "text": [
      "Train loss: 0.258: 100%|█████████████████████████████████████████████████████████████| 938/938 [00:52<00:00, 17.96it/s]\n",
      "Test loss: 0.316:   1%|▊                                                               | 2/157 [00:00<00:08, 18.52it/s]"
     ]
    },
    {
     "name": "stdout",
     "output_type": "stream",
     "text": [
      "[Epoch: 11, numImages: 60000]\n",
      "Loss: 0.258\n"
     ]
    },
    {
     "name": "stderr",
     "output_type": "stream",
     "text": [
      "Test loss: 0.336: 100%|██████████████████████████████████████████████████████████████| 157/157 [00:08<00:00, 18.57it/s]\n",
      "Train loss: 0.242:   0%|▏                                                              | 2/938 [00:00<00:55, 16.81it/s]"
     ]
    },
    {
     "name": "stdout",
     "output_type": "stream",
     "text": [
      "[Epoch: 11, numImages: 10000]\n",
      "Loss: 0.336\n",
      "ACC: 87.790\n"
     ]
    },
    {
     "name": "stderr",
     "output_type": "stream",
     "text": [
      "Train loss: 0.249: 100%|█████████████████████████████████████████████████████████████| 938/938 [00:52<00:00, 17.93it/s]\n",
      "Test loss: 0.273:   1%|▊                                                               | 2/157 [00:00<00:08, 18.02it/s]"
     ]
    },
    {
     "name": "stdout",
     "output_type": "stream",
     "text": [
      "[Epoch: 12, numImages: 60000]\n",
      "Loss: 0.249\n"
     ]
    },
    {
     "name": "stderr",
     "output_type": "stream",
     "text": [
      "Test loss: 0.333: 100%|██████████████████████████████████████████████████████████████| 157/157 [00:08<00:00, 18.50it/s]\n",
      "Train loss: 0.210:   0%|▏                                                              | 2/938 [00:00<00:55, 16.95it/s]"
     ]
    },
    {
     "name": "stdout",
     "output_type": "stream",
     "text": [
      "[Epoch: 12, numImages: 10000]\n",
      "Loss: 0.333\n",
      "ACC: 87.940\n"
     ]
    },
    {
     "name": "stderr",
     "output_type": "stream",
     "text": [
      "Train loss: 0.243: 100%|█████████████████████████████████████████████████████████████| 938/938 [00:52<00:00, 17.91it/s]\n",
      "Test loss: 0.243:   1%|▊                                                               | 2/157 [00:00<00:08, 18.52it/s]"
     ]
    },
    {
     "name": "stdout",
     "output_type": "stream",
     "text": [
      "[Epoch: 13, numImages: 60000]\n",
      "Loss: 0.243\n"
     ]
    },
    {
     "name": "stderr",
     "output_type": "stream",
     "text": [
      "Test loss: 0.341: 100%|██████████████████████████████████████████████████████████████| 157/157 [00:08<00:00, 18.49it/s]\n",
      "Train loss: 0.203:   0%|▏                                                              | 2/938 [00:00<00:54, 17.09it/s]"
     ]
    },
    {
     "name": "stdout",
     "output_type": "stream",
     "text": [
      "[Epoch: 13, numImages: 10000]\n",
      "Loss: 0.341\n",
      "ACC: 87.800\n"
     ]
    },
    {
     "name": "stderr",
     "output_type": "stream",
     "text": [
      "Train loss: 0.237: 100%|█████████████████████████████████████████████████████████████| 938/938 [00:52<00:00, 17.97it/s]\n",
      "Test loss: 0.294:   1%|▊                                                               | 2/157 [00:00<00:08, 18.69it/s]"
     ]
    },
    {
     "name": "stdout",
     "output_type": "stream",
     "text": [
      "[Epoch: 14, numImages: 60000]\n",
      "Loss: 0.237\n"
     ]
    },
    {
     "name": "stderr",
     "output_type": "stream",
     "text": [
      "Test loss: 0.321: 100%|██████████████████████████████████████████████████████████████| 157/157 [00:08<00:00, 18.52it/s]\n",
      "Train loss: 0.156:   0%|▏                                                              | 2/938 [00:00<00:56, 16.67it/s]"
     ]
    },
    {
     "name": "stdout",
     "output_type": "stream",
     "text": [
      "[Epoch: 14, numImages: 10000]\n",
      "Loss: 0.321\n",
      "ACC: 88.650\n"
     ]
    },
    {
     "name": "stderr",
     "output_type": "stream",
     "text": [
      "Train loss: 0.229: 100%|█████████████████████████████████████████████████████████████| 938/938 [00:52<00:00, 17.93it/s]\n",
      "Test loss: 0.374:   2%|█▏                                                              | 3/157 [00:00<00:08, 18.87it/s]"
     ]
    },
    {
     "name": "stdout",
     "output_type": "stream",
     "text": [
      "[Epoch: 15, numImages: 60000]\n",
      "Loss: 0.229\n"
     ]
    },
    {
     "name": "stderr",
     "output_type": "stream",
     "text": [
      "Test loss: 0.324: 100%|██████████████████████████████████████████████████████████████| 157/157 [00:08<00:00, 18.84it/s]\n",
      "Train loss: 0.185:   0%|▏                                                              | 2/938 [00:00<00:53, 17.54it/s]"
     ]
    },
    {
     "name": "stdout",
     "output_type": "stream",
     "text": [
      "[Epoch: 15, numImages: 10000]\n",
      "Loss: 0.324\n",
      "ACC: 88.620\n"
     ]
    },
    {
     "name": "stderr",
     "output_type": "stream",
     "text": [
      "Train loss: 0.223: 100%|█████████████████████████████████████████████████████████████| 938/938 [00:51<00:00, 18.26it/s]\n",
      "Test loss: 0.282:   2%|█▏                                                              | 3/157 [00:00<00:08, 18.51it/s]"
     ]
    },
    {
     "name": "stdout",
     "output_type": "stream",
     "text": [
      "[Epoch: 16, numImages: 60000]\n",
      "Loss: 0.223\n"
     ]
    },
    {
     "name": "stderr",
     "output_type": "stream",
     "text": [
      "Test loss: 0.329: 100%|██████████████████████████████████████████████████████████████| 157/157 [00:08<00:00, 18.76it/s]\n",
      "Train loss: 0.204:   0%|▏                                                              | 2/938 [00:00<00:52, 17.70it/s]"
     ]
    },
    {
     "name": "stdout",
     "output_type": "stream",
     "text": [
      "[Epoch: 16, numImages: 10000]\n",
      "Loss: 0.329\n",
      "ACC: 88.350\n"
     ]
    },
    {
     "name": "stderr",
     "output_type": "stream",
     "text": [
      "Train loss: 0.217: 100%|█████████████████████████████████████████████████████████████| 938/938 [00:52<00:00, 18.03it/s]\n",
      "Test loss: 0.242:   1%|▊                                                               | 2/157 [00:00<00:08, 18.69it/s]"
     ]
    },
    {
     "name": "stdout",
     "output_type": "stream",
     "text": [
      "[Epoch: 17, numImages: 60000]\n",
      "Loss: 0.217\n"
     ]
    },
    {
     "name": "stderr",
     "output_type": "stream",
     "text": [
      "Test loss: 0.328: 100%|██████████████████████████████████████████████████████████████| 157/157 [00:08<00:00, 18.44it/s]\n",
      "Train loss: 0.238:   0%|▏                                                              | 2/938 [00:00<00:55, 16.95it/s]"
     ]
    },
    {
     "name": "stdout",
     "output_type": "stream",
     "text": [
      "[Epoch: 17, numImages: 10000]\n",
      "Loss: 0.328\n",
      "ACC: 88.750\n"
     ]
    },
    {
     "name": "stderr",
     "output_type": "stream",
     "text": [
      "Train loss: 0.210: 100%|█████████████████████████████████████████████████████████████| 938/938 [00:52<00:00, 17.90it/s]\n",
      "Test loss: 0.334:   1%|▊                                                               | 2/157 [00:00<00:08, 18.52it/s]"
     ]
    },
    {
     "name": "stdout",
     "output_type": "stream",
     "text": [
      "[Epoch: 18, numImages: 60000]\n",
      "Loss: 0.210\n"
     ]
    },
    {
     "name": "stderr",
     "output_type": "stream",
     "text": [
      "Test loss: 0.320: 100%|██████████████████████████████████████████████████████████████| 157/157 [00:08<00:00, 18.46it/s]\n",
      "Train loss: 0.194:   0%|▏                                                              | 2/938 [00:00<00:55, 16.81it/s]"
     ]
    },
    {
     "name": "stdout",
     "output_type": "stream",
     "text": [
      "[Epoch: 18, numImages: 10000]\n",
      "Loss: 0.320\n",
      "ACC: 88.850\n"
     ]
    },
    {
     "name": "stderr",
     "output_type": "stream",
     "text": [
      "Train loss: 0.207: 100%|█████████████████████████████████████████████████████████████| 938/938 [00:52<00:00, 17.92it/s]\n",
      "Test loss: 0.289:   1%|▊                                                               | 2/157 [00:00<00:08, 18.59it/s]"
     ]
    },
    {
     "name": "stdout",
     "output_type": "stream",
     "text": [
      "[Epoch: 19, numImages: 60000]\n",
      "Loss: 0.207\n"
     ]
    },
    {
     "name": "stderr",
     "output_type": "stream",
     "text": [
      "Test loss: 0.318: 100%|██████████████████████████████████████████████████████████████| 157/157 [00:08<00:00, 18.50it/s]\n",
      "Train loss: 0.203:   0%|▏                                                              | 2/938 [00:00<00:54, 17.24it/s]"
     ]
    },
    {
     "name": "stdout",
     "output_type": "stream",
     "text": [
      "[Epoch: 19, numImages: 10000]\n",
      "Loss: 0.318\n",
      "ACC: 89.120\n"
     ]
    },
    {
     "name": "stderr",
     "output_type": "stream",
     "text": [
      "Train loss: 0.200: 100%|█████████████████████████████████████████████████████████████| 938/938 [00:52<00:00, 17.91it/s]\n",
      "Test loss: 0.387:   1%|▊                                                               | 2/157 [00:00<00:08, 18.18it/s]"
     ]
    },
    {
     "name": "stdout",
     "output_type": "stream",
     "text": [
      "[Epoch: 20, numImages: 60000]\n",
      "Loss: 0.200\n"
     ]
    },
    {
     "name": "stderr",
     "output_type": "stream",
     "text": [
      "Test loss: 0.325: 100%|██████████████████████████████████████████████████████████████| 157/157 [00:08<00:00, 18.39it/s]\n",
      "Train loss: 0.217:   0%|▏                                                              | 2/938 [00:00<00:55, 16.95it/s]"
     ]
    },
    {
     "name": "stdout",
     "output_type": "stream",
     "text": [
      "[Epoch: 20, numImages: 10000]\n",
      "Loss: 0.325\n",
      "ACC: 88.740\n"
     ]
    },
    {
     "name": "stderr",
     "output_type": "stream",
     "text": [
      "Train loss: 0.196: 100%|█████████████████████████████████████████████████████████████| 938/938 [00:52<00:00, 17.93it/s]\n",
      "Test loss: 0.285:   1%|▊                                                               | 2/157 [00:00<00:08, 18.02it/s]"
     ]
    },
    {
     "name": "stdout",
     "output_type": "stream",
     "text": [
      "[Epoch: 21, numImages: 60000]\n",
      "Loss: 0.196\n"
     ]
    },
    {
     "name": "stderr",
     "output_type": "stream",
     "text": [
      "Test loss: 0.330: 100%|██████████████████████████████████████████████████████████████| 157/157 [00:08<00:00, 18.48it/s]\n",
      "Train loss: 0.161:   0%|▏                                                              | 2/938 [00:00<00:55, 16.81it/s]"
     ]
    },
    {
     "name": "stdout",
     "output_type": "stream",
     "text": [
      "[Epoch: 21, numImages: 10000]\n",
      "Loss: 0.330\n",
      "ACC: 88.930\n"
     ]
    },
    {
     "name": "stderr",
     "output_type": "stream",
     "text": [
      "Train loss: 0.189: 100%|█████████████████████████████████████████████████████████████| 938/938 [00:52<00:00, 17.78it/s]\n",
      "Test loss: 0.368:   1%|▊                                                               | 2/157 [00:00<00:08, 18.69it/s]"
     ]
    },
    {
     "name": "stdout",
     "output_type": "stream",
     "text": [
      "[Epoch: 22, numImages: 60000]\n",
      "Loss: 0.189\n"
     ]
    },
    {
     "name": "stderr",
     "output_type": "stream",
     "text": [
      "Test loss: 0.321: 100%|██████████████████████████████████████████████████████████████| 157/157 [00:08<00:00, 18.41it/s]\n",
      "Train loss: 0.128:   0%|▏                                                              | 2/938 [00:00<00:56, 16.67it/s]"
     ]
    },
    {
     "name": "stdout",
     "output_type": "stream",
     "text": [
      "[Epoch: 22, numImages: 10000]\n",
      "Loss: 0.321\n",
      "ACC: 88.840\n"
     ]
    },
    {
     "name": "stderr",
     "output_type": "stream",
     "text": [
      "Train loss: 0.183: 100%|█████████████████████████████████████████████████████████████| 938/938 [00:52<00:00, 17.90it/s]\n",
      "Test loss: 0.351:   1%|▊                                                               | 2/157 [00:00<00:08, 18.19it/s]"
     ]
    },
    {
     "name": "stdout",
     "output_type": "stream",
     "text": [
      "[Epoch: 23, numImages: 60000]\n",
      "Loss: 0.183\n"
     ]
    },
    {
     "name": "stderr",
     "output_type": "stream",
     "text": [
      "Test loss: 0.320: 100%|██████████████████████████████████████████████████████████████| 157/157 [00:08<00:00, 18.35it/s]\n",
      "Train loss: 0.151:   0%|▏                                                              | 2/938 [00:00<00:55, 16.95it/s]"
     ]
    },
    {
     "name": "stdout",
     "output_type": "stream",
     "text": [
      "[Epoch: 23, numImages: 10000]\n",
      "Loss: 0.320\n",
      "ACC: 88.710\n"
     ]
    },
    {
     "name": "stderr",
     "output_type": "stream",
     "text": [
      "Train loss: 0.180: 100%|█████████████████████████████████████████████████████████████| 938/938 [00:52<00:00, 17.83it/s]\n",
      "Test loss: 0.383:   1%|▊                                                               | 2/157 [00:00<00:08, 18.52it/s]"
     ]
    },
    {
     "name": "stdout",
     "output_type": "stream",
     "text": [
      "[Epoch: 24, numImages: 60000]\n",
      "Loss: 0.180\n"
     ]
    },
    {
     "name": "stderr",
     "output_type": "stream",
     "text": [
      "Test loss: 0.338: 100%|██████████████████████████████████████████████████████████████| 157/157 [00:08<00:00, 18.47it/s]\n",
      "Train loss: 0.164:   0%|▏                                                              | 2/938 [00:00<00:54, 17.09it/s]"
     ]
    },
    {
     "name": "stdout",
     "output_type": "stream",
     "text": [
      "[Epoch: 24, numImages: 10000]\n",
      "Loss: 0.338\n",
      "ACC: 88.480\n"
     ]
    },
    {
     "name": "stderr",
     "output_type": "stream",
     "text": [
      "Train loss: 0.176: 100%|█████████████████████████████████████████████████████████████| 938/938 [00:52<00:00, 17.86it/s]\n",
      "Test loss: 0.423:   1%|▊                                                               | 2/157 [00:00<00:08, 18.52it/s]"
     ]
    },
    {
     "name": "stdout",
     "output_type": "stream",
     "text": [
      "[Epoch: 25, numImages: 60000]\n",
      "Loss: 0.176\n"
     ]
    },
    {
     "name": "stderr",
     "output_type": "stream",
     "text": [
      "Test loss: 0.370: 100%|██████████████████████████████████████████████████████████████| 157/157 [00:08<00:00, 18.45it/s]\n",
      "Train loss: 0.311:   0%|▏                                                              | 2/938 [00:00<00:55, 16.81it/s]"
     ]
    },
    {
     "name": "stdout",
     "output_type": "stream",
     "text": [
      "[Epoch: 25, numImages: 10000]\n",
      "Loss: 0.370\n",
      "ACC: 87.700\n"
     ]
    },
    {
     "name": "stderr",
     "output_type": "stream",
     "text": [
      "Train loss: 0.173: 100%|█████████████████████████████████████████████████████████████| 938/938 [00:52<00:00, 17.89it/s]\n",
      "Test loss: 0.230:   2%|█▏                                                              | 3/157 [00:00<00:08, 18.87it/s]"
     ]
    },
    {
     "name": "stdout",
     "output_type": "stream",
     "text": [
      "[Epoch: 26, numImages: 60000]\n",
      "Loss: 0.173\n"
     ]
    },
    {
     "name": "stderr",
     "output_type": "stream",
     "text": [
      "Test loss: 0.323: 100%|██████████████████████████████████████████████████████████████| 157/157 [00:08<00:00, 18.42it/s]\n",
      "Train loss: 0.121:   0%|▏                                                              | 2/938 [00:00<00:56, 16.53it/s]"
     ]
    },
    {
     "name": "stdout",
     "output_type": "stream",
     "text": [
      "[Epoch: 26, numImages: 10000]\n",
      "Loss: 0.323\n",
      "ACC: 89.240\n"
     ]
    },
    {
     "name": "stderr",
     "output_type": "stream",
     "text": [
      "Train loss: 0.169: 100%|█████████████████████████████████████████████████████████████| 938/938 [00:52<00:00, 17.71it/s]\n",
      "Test loss: 0.365:   2%|█▏                                                              | 3/157 [00:00<00:08, 18.02it/s]"
     ]
    },
    {
     "name": "stdout",
     "output_type": "stream",
     "text": [
      "[Epoch: 27, numImages: 60000]\n",
      "Loss: 0.169\n"
     ]
    },
    {
     "name": "stderr",
     "output_type": "stream",
     "text": [
      "Test loss: 0.347: 100%|██████████████████████████████████████████████████████████████| 157/157 [00:08<00:00, 18.06it/s]\n",
      "Train loss: 0.256:   0%|▏                                                              | 2/938 [00:00<00:55, 16.81it/s]"
     ]
    },
    {
     "name": "stdout",
     "output_type": "stream",
     "text": [
      "[Epoch: 27, numImages: 10000]\n",
      "Loss: 0.347\n",
      "ACC: 89.380\n"
     ]
    },
    {
     "name": "stderr",
     "output_type": "stream",
     "text": [
      "Train loss: 0.163: 100%|█████████████████████████████████████████████████████████████| 938/938 [00:53<00:00, 17.49it/s]\n",
      "Test loss: 0.460:   2%|█▏                                                              | 3/157 [00:00<00:08, 18.52it/s]"
     ]
    },
    {
     "name": "stdout",
     "output_type": "stream",
     "text": [
      "[Epoch: 28, numImages: 60000]\n",
      "Loss: 0.163\n"
     ]
    },
    {
     "name": "stderr",
     "output_type": "stream",
     "text": [
      "Test loss: 0.333: 100%|██████████████████████████████████████████████████████████████| 157/157 [00:08<00:00, 18.54it/s]\n",
      "Train loss: 0.189:   0%|▏                                                              | 2/938 [00:00<00:52, 17.70it/s]"
     ]
    },
    {
     "name": "stdout",
     "output_type": "stream",
     "text": [
      "[Epoch: 28, numImages: 10000]\n",
      "Loss: 0.333\n",
      "ACC: 89.510\n"
     ]
    },
    {
     "name": "stderr",
     "output_type": "stream",
     "text": [
      "Train loss: 0.160: 100%|█████████████████████████████████████████████████████████████| 938/938 [00:52<00:00, 17.74it/s]\n",
      "Test loss: 0.400:   1%|▊                                                               | 2/157 [00:00<00:08, 18.52it/s]"
     ]
    },
    {
     "name": "stdout",
     "output_type": "stream",
     "text": [
      "[Epoch: 29, numImages: 60000]\n",
      "Loss: 0.160\n"
     ]
    },
    {
     "name": "stderr",
     "output_type": "stream",
     "text": [
      "Test loss: 0.326: 100%|██████████████████████████████████████████████████████████████| 157/157 [00:08<00:00, 18.30it/s]\n",
      "Train loss: 0.127:   0%|▏                                                              | 2/938 [00:00<00:55, 16.95it/s]"
     ]
    },
    {
     "name": "stdout",
     "output_type": "stream",
     "text": [
      "[Epoch: 29, numImages: 10000]\n",
      "Loss: 0.326\n",
      "ACC: 89.380\n"
     ]
    },
    {
     "name": "stderr",
     "output_type": "stream",
     "text": [
      "Train loss: 0.157: 100%|█████████████████████████████████████████████████████████████| 938/938 [00:52<00:00, 17.84it/s]\n",
      "Test loss: 0.187:   1%|▊                                                               | 2/157 [00:00<00:08, 18.18it/s]"
     ]
    },
    {
     "name": "stdout",
     "output_type": "stream",
     "text": [
      "[Epoch: 30, numImages: 60000]\n",
      "Loss: 0.157\n"
     ]
    },
    {
     "name": "stderr",
     "output_type": "stream",
     "text": [
      "Test loss: 0.342: 100%|██████████████████████████████████████████████████████████████| 157/157 [00:08<00:00, 18.26it/s]"
     ]
    },
    {
     "name": "stdout",
     "output_type": "stream",
     "text": [
      "[Epoch: 30, numImages: 10000]\n",
      "Loss: 0.342\n",
      "ACC: 89.330\n"
     ]
    },
    {
     "name": "stderr",
     "output_type": "stream",
     "text": [
      "\n"
     ]
    }
   ],
   "source": [
    "train_loss_lst = list()\n",
    "test_loss_lst = list()\n",
    "for epoch in range(1, EPOCHS+1):\n",
    "    train_loss_lst.append(train(model, train_loader, optimizer))\n",
    "    test_loss_lst.append(test(model, test_loader))"
   ]
  },
  {
   "cell_type": "markdown",
   "metadata": {},
   "source": [
    "# 4. 학습 결과"
   ]
  },
  {
   "cell_type": "code",
   "execution_count": 26,
   "metadata": {},
   "outputs": [],
   "source": [
    "train_loss_lst = [i[0] for i in train_loss_lst]\n",
    "test_loss_lst = [i[0] for i in test_loss_lst]"
   ]
  },
  {
   "cell_type": "code",
   "execution_count": 32,
   "metadata": {},
   "outputs": [
    {
     "data": {
      "text/plain": [
       "Text(0.5, 1.0, 'FashionMNIST with ANN')"
      ]
     },
     "execution_count": 32,
     "metadata": {},
     "output_type": "execute_result"
    },
    {
     "data": {
      "image/png": "[encoded data removed]",
      "text/plain": [
       "<Figure size 1080x432 with 1 Axes>"
      ]
     },
     "metadata": {
      "needs_background": "light"
     },
     "output_type": "display_data"
    }
   ],
   "source": [
    "plt.figure(figsize=(15,6))\n",
    "plt.plot(train_loss_lst)\n",
    "plt.plot(test_loss_lst)\n",
    "plt.legend(['train','test'])\n",
    "plt.xlabel('Epochs')\n",
    "plt.ylabel('Loss')\n",
    "plt.title('FashionMNIST with ANN')"
   ]
  },
  {
   "cell_type": "code",
   "execution_count": null,
   "metadata": {},
   "outputs": [],
   "source": []
  },
  {
   "cell_type": "code",
   "execution_count": null,
   "metadata": {},
   "outputs": [],
   "source": []
  }
 ],
 "metadata": {
  "kernelspec": {
   "display_name": "Python 3",
   "language": "python",
   "name": "python3"
  },
  "language_info": {
   "codemirror_mode": {
    "name": "ipython",
    "version": 3
   },
   "file_extension": ".py",
   "mimetype": "text/x-python",
   "name": "python",
   "nbconvert_exporter": "python",
   "pygments_lexer": "ipython3",
   "version": "3.7.7"
  }
 },
 "nbformat": 4,
 "nbformat_minor": 4
}
