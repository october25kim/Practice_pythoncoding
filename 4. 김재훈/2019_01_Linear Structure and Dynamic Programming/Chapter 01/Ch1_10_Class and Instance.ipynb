{
 "cells": [
  {
   "cell_type": "markdown",
   "metadata": {},
   "source": [
    "# Class and Instance"
   ]
  },
  {
   "cell_type": "code",
   "execution_count": 11,
   "metadata": {},
   "outputs": [],
   "source": [
    "# See how to define a class >>> class classname\n",
    "class MyHome:\n",
    "    colorRoof = 'red'\n",
    "    stateDoor = 'closed'\n",
    "    \n",
    "    def paintRoof(self, color):\n",
    "        self.colorRoof = color\n",
    "    \n",
    "    def openDoor(self):\n",
    "        self.stateDoor = 'open'\n",
    "    \n",
    "    def closeDoor(self):\n",
    "        self.stateDoor = 'close'\n",
    "    \n",
    "    def printStatus(self):\n",
    "        print(\"Roof color is\", self.colorRoof, \", and door is\",self.stateDoor)"
   ]
  },
  {
   "cell_type": "code",
   "execution_count": 12,
   "metadata": {},
   "outputs": [
    {
     "name": "stdout",
     "output_type": "stream",
     "text": [
      "Roof color is blue , and door is closed\n"
     ]
    }
   ],
   "source": [
    "# See how to instantiate a class >>> var = classname(param)\n",
    "homeAtDaejeon = MyHome()\n",
    "homeAtDaejeon.paintRoof('blue')\n",
    "homeAtDaejeon.printStatus()"
   ]
  },
  {
   "cell_type": "code",
   "execution_count": 13,
   "metadata": {},
   "outputs": [
    {
     "name": "stdout",
     "output_type": "stream",
     "text": [
      "Roof color is red , and door is open\n"
     ]
    }
   ],
   "source": [
    "homeAtSeoul = MyHome()\n",
    "homeAtSeoul.openDoor()\n",
    "homeAtSeoul.printStatus()"
   ]
  },
  {
   "cell_type": "markdown",
   "metadata": {},
   "source": [
    "# Important Methods in Class - Constructor, Destructor\n",
    "\n",
    "* Some basic methods, or member function in classes\n",
    "\n",
    "    - Constructor\n",
    "        - Called when instantiated\n",
    "        \n",
    "    - Deconstructor\n",
    "        - Called when the instance is removed from the value table"
   ]
  },
  {
   "cell_type": "code",
   "execution_count": 14,
   "metadata": {},
   "outputs": [],
   "source": [
    "from time import ctime\n",
    "\n",
    "class MyHome:\n",
    "    colorRoof = 'red'\n",
    "    stateDoor = 'closed'\n",
    "    \n",
    "    def paintRoof(self, color):\n",
    "        self.colorRoof = color\n",
    "    \n",
    "    def openDoor(self):\n",
    "        self.stateDoor = 'open'\n",
    "    \n",
    "    def closeDoor(self):\n",
    "        self.stateDoor = 'close'\n",
    "    \n",
    "    def printStatus(self):\n",
    "        print(\"Roof color is\", self.colorRoof, \", and door is\",self.stateDoor)\n",
    "        \n",
    "    def __init__(self, strAddress): #Constructor >> 인스턴스가 만들어질 때 실행된다.\n",
    "        print(\"Built on\", strAddress)\n",
    "        print(\"Built at\", ctime())\n",
    "    \n",
    "    def __del__(self): #Deconstructor >> 인스턴스가 삭제될 때 실행된다.\n",
    "        print(\"Destroyed at\", ctime())"
   ]
  },
  {
   "cell_type": "code",
   "execution_count": 15,
   "metadata": {},
   "outputs": [
    {
     "name": "stdout",
     "output_type": "stream",
     "text": [
      "Built on Seoul KU\n",
      "Built at Mon Oct 28 16:04:21 2019\n",
      "Roof color is red , and door is closed\n",
      "Destroyed at Mon Oct 28 16:04:21 2019\n"
     ]
    }
   ],
   "source": [
    "homeAtSeoul = MyHome(\"Seoul KU\")\n",
    "homeAtSeoul.printStatus()\n",
    "del homeAtSeoul"
   ]
  }
 ],
 "metadata": {
  "kernelspec": {
   "display_name": "dmqa_pytorch",
   "language": "python",
   "name": "dmqa_pytorch"
  },
  "language_info": {
   "codemirror_mode": {
    "name": "ipython",
    "version": 3
   },
   "file_extension": ".py",
   "mimetype": "text/x-python",
   "name": "python",
   "nbconvert_exporter": "python",
   "pygments_lexer": "ipython3",
   "version": "3.7.4"
  }
 },
 "nbformat": 4,
 "nbformat_minor": 2
}
