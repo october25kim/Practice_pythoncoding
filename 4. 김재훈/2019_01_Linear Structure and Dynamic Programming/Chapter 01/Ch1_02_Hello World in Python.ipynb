{
 "cells": [
  {
   "cell_type": "markdown",
   "metadata": {},
   "source": [
    "## Procedure-oriented program\n",
    "- main() is a function\n",
    "\n",
    "<br>\n",
    "Largely in two parts,\n",
    "\n",
    "- Definition part\n",
    "- Execution part"
   ]
  },
  {
   "cell_type": "code",
   "execution_count": 2,
   "metadata": {},
   "outputs": [
    {
     "name": "stdout",
     "output_type": "stream",
     "text": [
      "Hello World\n",
      "This program computes the average of two exam scores\n",
      "Enter two scores separated by a comma :1,3\n",
      "The average of the score is : 2.0\n"
     ]
    }
   ],
   "source": [
    "def main():\n",
    "    print(\"Hello World\")\n",
    "    print(\"This program computes the average of two exam scores\")\n",
    "    \n",
    "    score1, score2 = map(int, input(\"Enter two scores separated by a comma :\").split(\",\"))\n",
    "    average = (score1 + score2) / 2.0\n",
    "    \n",
    "    print(\"The average of the score is :\",average)\n",
    "    \n",
    "main()"
   ]
  },
  {
   "cell_type": "markdown",
   "metadata": {},
   "source": [
    "위에서 <b><span style=\"color:green\">def</span></b>는 function declaration keyword 이다.\n",
    "\n",
    "<span style=\"color:blue\">main</span>은 function name이다.\n",
    "\n",
    "( )안은 비어있긴하지만 input parameter를 입력하는 곳이다.\n",
    "\n",
    "함수 내에서 들여쓰기가 되어있는 곳은 indentation이다.\n",
    "\n",
    "함수에 쓰인 코드 단락은 Block 1(Definition part)이다.\n",
    "\n",
    "따라서 실행하는 main() 코드는 Block 2(Execution part)로 볼 수 있다."
   ]
  },
  {
   "cell_type": "markdown",
   "metadata": {},
   "source": [
    "## Object-oriented program\n",
    "- HelloWorld is an object\n",
    "\n",
    "- \\_\\_init\\_\\_, \\_\\_del\\_\\_, and performAverage are <b>methods</b>.\n",
    "\n",
    "<br>\n",
    "Largely in two parts,\n",
    "\n",
    "- Definition part\n",
    "- Execution part"
   ]
  },
  {
   "cell_type": "code",
   "execution_count": 9,
   "metadata": {},
   "outputs": [
    {
     "name": "stdout",
     "output_type": "stream",
     "text": [
      "Hello Wolrd! Just one more time\n",
      "Enter two scores separated by a comma: 1,3\n",
      "The average of the scores is : 2.0\n",
      "Good Bye\n"
     ]
    }
   ],
   "source": [
    "class HelloWorld:\n",
    "    def __init__(self):\n",
    "        print(\"Hello Wolrd! Just one more time\")\n",
    "    def __del__(self):\n",
    "        print(\"Good Bye\")\n",
    "    def performAverage(self, val1, val2):\n",
    "        average = (val1 + val2) / 2.0\n",
    "        print(\"The average of the scores is :\", average)\n",
    "    \n",
    "def main():\n",
    "    world = HelloWorld()\n",
    "    score1, score2 = map(int, input(\"Enter two scores separated by a comma: \").split(','))\n",
    "    world.performAverage(score1, score2)\n",
    "    \n",
    "main()"
   ]
  },
  {
   "cell_type": "markdown",
   "metadata": {},
   "source": [
    "위에서 <b><span style=\"color:green\">class</span></b>는 class declaration keyword 이다.\n",
    "\n",
    "<span style=\"color:blue\">HelloWorld</span>은 class name이다.\n",
    "\n",
    "instance가 실행될 때 <span style=\"color:blue\">\\_\\_init\\_\\_</span>이 실행되고,<br>\n",
    "instance가 종료될 때 <span style=\"color:blue\">\\_\\_del\\_\\_</span>이 실행된다.\n",
    "\n",
    "위의 예시에서 self는 world의 값(어떤 곳으로부터 정보를 받을 것인가)을 받는다."
   ]
  }
 ],
 "metadata": {
  "kernelspec": {
   "display_name": "Python 3",
   "language": "python",
   "name": "python3"
  },
  "language_info": {
   "codemirror_mode": {
    "name": "ipython",
    "version": 3
   },
   "file_extension": ".py",
   "mimetype": "text/x-python",
   "name": "python",
   "nbconvert_exporter": "python",
   "pygments_lexer": "ipython3",
   "version": "3.7.6"
  }
 },
 "nbformat": 4,
 "nbformat_minor": 2
}
