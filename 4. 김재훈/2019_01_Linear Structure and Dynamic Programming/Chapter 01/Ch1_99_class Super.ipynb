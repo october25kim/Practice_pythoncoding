{
 "cells": [
  {
   "cell_type": "markdown",
   "metadata": {},
   "source": [
    "# super로 부모 클래스를 초기화하자"
   ]
  },
  {
   "cell_type": "markdown",
   "metadata": {},
   "source": [
    "super()는 자식클래스에서 부모클래스의 내용을 사용하고 싶을 경우 사용한다."
   ]
  },
  {
   "cell_type": "code",
   "execution_count": 23,
   "metadata": {},
   "outputs": [
    {
     "name": "stdout",
     "output_type": "stream",
     "text": [
      "아들 상속\n",
      "잘생겼다\n",
      "\n",
      "딸 상속\n",
      "예쁘다\n"
     ]
    }
   ],
   "source": [
    "class father():  # 부모 클래스\n",
    "    def handsome(self):\n",
    "        print(\"잘생겼다\")\n",
    " \n",
    " \n",
    "class brother(father):  # 자식클래스(부모클래스) 아빠매소드를 상속받겠다\n",
    "    '''아들'''\n",
    " \n",
    " \n",
    "class sister(father):  # 자식클래스(부모클래스) 아빠매소드를 상속받겠다\n",
    "    def pretty(self):\n",
    "        print(\"예쁘다\")\n",
    " \n",
    "    def handsome(self):\n",
    "        '''물려받았어요'''\n",
    " \n",
    " \n",
    "brother = brother()\n",
    "print(\"아들 상속\")\n",
    "brother.handsome()\n",
    "\n",
    "girl = sister()\n",
    "print(\"\\n딸 상속\")\n",
    "girl.handsome()\n",
    "girl.pretty()"
   ]
  },
  {
   "cell_type": "markdown",
   "metadata": {},
   "source": [
    "여기서 아들의 경우 handsome()이 잘 출력되었으나,<br>\n",
    "딸의 경우에는 출력되지 않았다. 왜냐하면 sister 클래스에서 handsome()을 다시 작성하는 바람에 오버라이딩(overriding)되었기 때문이다.\n",
    "\n",
    "다음과 같이 수정하면 sister 클래스에서도 잘생겼다를 출력할 수 있다."
   ]
  },
  {
   "cell_type": "code",
   "execution_count": 22,
   "metadata": {},
   "outputs": [
    {
     "name": "stdout",
     "output_type": "stream",
     "text": [
      "아들 상속\n",
      "잘생겼다\n",
      "\n",
      "딸 상속\n",
      "잘생겼다\n",
      "예쁘다\n"
     ]
    }
   ],
   "source": [
    "class father():  # 부모 클래스\n",
    "    def handsome(self):\n",
    "        print(\"잘생겼다\")\n",
    " \n",
    " \n",
    "class brother(father):  # 자식클래스(부모클래스) 아빠매소드를 상속받겠다\n",
    "    '''아들'''\n",
    " \n",
    " \n",
    "class sister(father):  # 자식클래스(부모클래스) 아빠매소드를 상속받겠다\n",
    "    def pretty(self):\n",
    "        print(\"예쁘다\")\n",
    " \n",
    "    def handsome(self):\n",
    "        super().handsome() #### super() ####\n",
    " \n",
    " \n",
    "brother = brother()\n",
    "print(\"아들 상속\")\n",
    "brother.handsome()\n",
    " \n",
    "girl = sister()\n",
    "print(\"\\n딸 상속\")\n",
    "girl.handsome() # super()를 통해서 부모클래스에서 메소드를 가져왔다.\n",
    "girl.pretty()"
   ]
  },
  {
   "cell_type": "markdown",
   "metadata": {},
   "source": [
    "## 심화 예시"
   ]
  },
  {
   "cell_type": "code",
   "execution_count": 25,
   "metadata": {},
   "outputs": [
    {
     "name": "stdout",
     "output_type": "stream",
     "text": [
      "아빠를 닮아 잘생겼다\n",
      "얼굴 말이야\n"
     ]
    }
   ],
   "source": [
    "class father():  # 부모 클래스\n",
    "    def __init__(self, who):\n",
    "        self.who = who\n",
    " \n",
    "    def handsome(self):\n",
    "        print(\"{}를 닮아 잘생겼다\".format(self.who))\n",
    "\n",
    "       \n",
    "        \n",
    "class sister(father):  # 자식클래스(부모클래스) 아빠매소드를 상속받겠다\n",
    "    def __init__(self, who, where):\n",
    "        super().__init__(who)\n",
    "        self.where = where\n",
    " \n",
    "    def choice(self):\n",
    "        print(\"{} 말이야\".format(self.where))\n",
    " \n",
    "    def handsome(self):\n",
    "        super().handsome()\n",
    "        self.choice()\n",
    "\n",
    "girl = sister(\"아빠\", \"얼굴\")\n",
    "girl.handsome()"
   ]
  },
  {
   "cell_type": "markdown",
   "metadata": {},
   "source": [
    "<img src=\"img/99_01.PNG\">"
   ]
  },
  {
   "cell_type": "markdown",
   "metadata": {},
   "source": [
    "sister 클래스에서 self.choic() 구문을 새로 넣는 바람에 handsome 메소드가 오버라이딩되면서 부모클래스에 있던 handsome 메소드 내용이 지워졌다.\n",
    "\n",
    "따라서 super()를 통해서 sister 클래스의 부모클래스인 father 클래스에서 부모클래스에 있는 handsome 메소드를 가지고 왔다.\n",
    "\n",
    "이는 \\_\\_init\\_\\_에서의 경우에 같은 맥락이다."
   ]
  },
  {
   "cell_type": "markdown",
   "metadata": {},
   "source": [
    "## Pytorch에서의 쓰임"
   ]
  },
  {
   "cell_type": "code",
   "execution_count": 14,
   "metadata": {},
   "outputs": [],
   "source": [
    "import torch\n",
    "import torch.nn as nn\n",
    "import torch.nn.functional as F"
   ]
  },
  {
   "cell_type": "code",
   "execution_count": 18,
   "metadata": {},
   "outputs": [],
   "source": [
    "class MyModel(nn.Module):\n",
    "    \n",
    "    def __init__(self, X_dim, y_dim):\n",
    "        super(MyModel, self).__init__() ### super() ###\n",
    "        layer1 = nn.Linear(X_dim, 128)\n",
    "        activation1 = nn.ReLU()\n",
    "        layer2 = nn.Linear(128, y_dim)\n",
    "        self.module = nn.Sequential(\n",
    "            layer1,\n",
    "            activation1,\n",
    "            layer2\n",
    "        )\n",
    "        \n",
    "    def forward(self, x):\n",
    "        out = self.module(x)\n",
    "        result = F.softmax(out, dim=1)\n",
    "        return result       "
   ]
  },
  {
   "cell_type": "markdown",
   "metadata": {},
   "source": [
    "class 형태의 모델은 항상 nn.Module 을 상속받아야 하며, \n",
    "\n",
    "super(모델명, self).\\_\\_init\\_\\_() 을 통해 nn.Module.\\_\\_init\\_\\_() 을 실행시키는 코드가 필요합니다.\n",
    "\n",
    "nn.Module의 \\_\\_init\\_\\_은 아래와 같다."
   ]
  },
  {
   "cell_type": "code",
   "execution_count": null,
   "metadata": {},
   "outputs": [],
   "source": [
    "def __init__(self):\n",
    "    \"\"\"\n",
    "    Initializes internal Module state, shared by both nn.Module and ScriptModule.\n",
    "    \"\"\"\n",
    "    torch._C._log_api_usage_once(\"python.nn_module\")\n",
    "\n",
    "    self.training = True\n",
    "    self._parameters = OrderedDict()\n",
    "    self._buffers = OrderedDict()\n",
    "    self._backward_hooks = OrderedDict()\n",
    "    self._forward_hooks = OrderedDict()\n",
    "    self._forward_pre_hooks = OrderedDict()\n",
    "    self._state_dict_hooks = OrderedDict()\n",
    "    self._load_state_dict_pre_hooks = OrderedDict()\n",
    "    self._modules = OrderedDict()"
   ]
  },
  {
   "cell_type": "markdown",
   "metadata": {},
   "source": [
    "MyModel 클래스에서도 기본적으로 설정할 레이어, 활성화함수 때문에 \\_\\_init\\_\\_을 써야하는데 <br>\n",
    "super()를 쓰지 않으면 오버라이딩되어 nn.Module의 \\_\\_init\\_\\_을 사용할 수 없게 된다."
   ]
  }
 ],
 "metadata": {
  "kernelspec": {
   "display_name": "Python 3",
   "language": "python",
   "name": "python3"
  },
  "language_info": {
   "codemirror_mode": {
    "name": "ipython",
    "version": 3
   },
   "file_extension": ".py",
   "mimetype": "text/x-python",
   "name": "python",
   "nbconvert_exporter": "python",
   "pygments_lexer": "ipython3",
   "version": "3.7.6"
  }
 },
 "nbformat": 4,
 "nbformat_minor": 2
}
