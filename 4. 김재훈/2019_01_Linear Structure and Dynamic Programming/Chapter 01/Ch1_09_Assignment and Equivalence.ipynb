{
 "cells": [
  {
   "cell_type": "markdown",
   "metadata": {},
   "source": [
    "# Assignment and Equivalence"
   ]
  },
  {
   "cell_type": "markdown",
   "metadata": {},
   "source": [
    "* One variable's value is changed\n",
    "\n",
    "\n",
    "* But, you see three changes\n",
    "\n",
    "\n",
    "* Why this happened?\n",
    "    - Because of references\n",
    "    - x has two references from y and z\n",
    "    - The values of y and z are determined by x, and x is changed\n",
    "        - See the ripple effects\n",
    "\n",
    "\n",
    "* ==\n",
    "    - Checks the equivalence of two referenced values\n",
    "\n",
    "\n",
    "\n",
    "* is\n",
    "    - Checks the equivalence of two referenced objectss' IDs"
   ]
  },
  {
   "cell_type": "code",
   "execution_count": 1,
   "metadata": {},
   "outputs": [
    {
     "name": "stdout",
     "output_type": "stream",
     "text": [
      "x :  [1, 2, 3]\n",
      "y :  [100, [1, 2, 3], 120]\n",
      "z :  [[1, 2, 3], 'a', 'b']\n"
     ]
    }
   ],
   "source": [
    "x = [1, 2, 3]\n",
    "y = [100, x, 120] #nested >> 리스트 속의 리스트\n",
    "z = [x, 'a', 'b']\n",
    "\n",
    "print('x : ', x)\n",
    "print('y : ', y)\n",
    "print('z : ', z)"
   ]
  },
  {
   "cell_type": "code",
   "execution_count": 2,
   "metadata": {},
   "outputs": [
    {
     "name": "stdout",
     "output_type": "stream",
     "text": [
      "x :  [1, 1717, 3]\n",
      "y :  [100, [1, 1717, 3], 120]\n",
      "z :  [[1, 1717, 3], 'a', 'b']\n"
     ]
    }
   ],
   "source": [
    "x[1] = 1717\n",
    "\n",
    "print('x : ', x)\n",
    "print('y : ', y)\n",
    "print('z : ', z)"
   ]
  },
  {
   "cell_type": "code",
   "execution_count": 3,
   "metadata": {},
   "outputs": [
    {
     "name": "stdout",
     "output_type": "stream",
     "text": [
      "Values are equivalent\n",
      "Values are not stored at the same place\n",
      "Values are stored at the same place\n"
     ]
    }
   ],
   "source": [
    "x[1] = 2\n",
    "x2 = [1, 2, 3]\n",
    "if x == x2:\n",
    "    print(\"Values are equivalent\")\n",
    "else:\n",
    "    print(\"Values are not equivalent\")\n",
    "\n",
    "if x is x2:\n",
    "    print(\"Values are stroed at the same place\")\n",
    "else:\n",
    "    print(\"Values are not stored at the same place\")\n",
    "\n",
    "if x[1] is y[1][1]:\n",
    "    print(\"Values are stored at the same place\")\n",
    "else:\n",
    "    print(\"Values are not stored at the same place\")"
   ]
  },
  {
   "cell_type": "markdown",
   "metadata": {},
   "source": [
    "# References, Symbol Table, and Object Table\n",
    "\n",
    "<img src=\"img/09_01.PNG\">"
   ]
  },
  {
   "cell_type": "markdown",
   "metadata": {},
   "source": [
    "<b>sys.getrefcount(</b><i>variable</i><b>)</b> returns the number of references of an object ID + 1"
   ]
  },
  {
   "cell_type": "code",
   "execution_count": 4,
   "metadata": {},
   "outputs": [],
   "source": [
    "import sys"
   ]
  },
  {
   "cell_type": "code",
   "execution_count": 5,
   "metadata": {},
   "outputs": [],
   "source": [
    "x = [1, 2, 3]\n",
    "y = [100, x, 120]\n",
    "z = [x, 'a', 'b']"
   ]
  },
  {
   "cell_type": "code",
   "execution_count": 7,
   "metadata": {},
   "outputs": [
    {
     "name": "stdout",
     "output_type": "stream",
     "text": [
      "4\n",
      "2\n"
     ]
    }
   ],
   "source": [
    "print(sys.getrefcount(x))\n",
    "print(sys.getrefcount(y))"
   ]
  },
  {
   "cell_type": "code",
   "execution_count": 8,
   "metadata": {},
   "outputs": [
    {
     "name": "stdout",
     "output_type": "stream",
     "text": [
      "1950281130568\n",
      "1950281130568\n",
      "1950281172168\n"
     ]
    }
   ],
   "source": [
    "print(id(x))\n",
    "print(id(y[1]))\n",
    "print(id(y))"
   ]
  },
  {
   "cell_type": "code",
   "execution_count": 9,
   "metadata": {},
   "outputs": [
    {
     "name": "stdout",
     "output_type": "stream",
     "text": [
      "True\n",
      "False\n"
     ]
    }
   ],
   "source": [
    "print(x is y[1])\n",
    "print(x is y)"
   ]
  }
 ],
 "metadata": {
  "kernelspec": {
   "display_name": "dmqa_pytorch",
   "language": "python",
   "name": "dmqa_pytorch"
  },
  "language_info": {
   "codemirror_mode": {
    "name": "ipython",
    "version": 3
   },
   "file_extension": ".py",
   "mimetype": "text/x-python",
   "name": "python",
   "nbconvert_exporter": "python",
   "pygments_lexer": "ipython3",
   "version": "3.7.4"
  }
 },
 "nbformat": 4,
 "nbformat_minor": 2
}
