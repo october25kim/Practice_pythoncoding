{
 "cells": [
  {
   "cell_type": "markdown",
   "metadata": {},
   "source": [
    "# Index in Sequence\n",
    "\n",
    "This index applies to strings as well as tuples, lists\n",
    "\n",
    "$\\rightarrow$ Applies to any sequence variables"
   ]
  },
  {
   "cell_type": "code",
   "execution_count": 1,
   "metadata": {},
   "outputs": [
    {
     "name": "stdout",
     "output_type": "stream",
     "text": [
      "Hello World! ISE\n",
      "e l l\n",
      "el\n",
      "lo World! ISE\n",
      "Hel\n",
      "el o\n",
      "el ol!IE\n",
      "el ol!IE\n",
      " olleH\n"
     ]
    }
   ],
   "source": [
    "strTest = 'Hello World! ISE'\n",
    "print(strTest)\n",
    "print(strTest[1], strTest[2], strTest[3]) # Simple index of a sequence, or an array\n",
    "print(strTest[1:3]) # x:y >> from x to y\n",
    "print(strTest[3:])\n",
    "print(strTest[:3])\n",
    "print(strTest[1:9:2]) # x:y:z >> from x to y with z steps\n",
    "print(strTest[1:len(strTest):2])\n",
    "print(strTest[1::2])\n",
    "print(strTest[5::-1]) # Default: y = the length of the sequence /// z=1 "
   ]
  },
  {
   "cell_type": "markdown",
   "metadata": {},
   "source": [
    "# List\n",
    "\n",
    "<i><b>List</b></i> is another type of sequence variables"
   ]
  },
  {
   "cell_type": "code",
   "execution_count": 2,
   "metadata": {},
   "outputs": [
    {
     "name": "stdout",
     "output_type": "stream",
     "text": [
      "[1, 2, 3, 4]\n",
      "1 2 3\n",
      "4 3\n",
      "[2, 3]\n",
      "[1, 2, 3, 4, 1, 2, 3, 4]\n",
      "[1, 2, 3, 4, 1, 2, 3, 4, 1, 2, 3, 4]\n"
     ]
    }
   ],
   "source": [
    "lstTest = [1,2,3,4]\n",
    "print(lstTest)\n",
    "print(lstTest[0], lstTest[1], lstTest[2])\n",
    "print(lstTest[-1], lstTest[-2])\n",
    "print(lstTest[1:3])\n",
    "print(lstTest + lstTest)\n",
    "print(lstTest*3)"
   ]
  },
  {
   "cell_type": "code",
   "execution_count": 3,
   "metadata": {},
   "outputs": [
    {
     "name": "stdout",
     "output_type": "stream",
     "text": [
      "[1, 4, 7, 10, 13, 16, 19]\n",
      "True False\n"
     ]
    }
   ],
   "source": [
    "lstTest = list(range(1,20,3))\n",
    "print(lstTest)\n",
    "print(4 in lstTest, 100 in lstTest)"
   ]
  },
  {
   "cell_type": "code",
   "execution_count": 4,
   "metadata": {},
   "outputs": [
    {
     "name": "stdout",
     "output_type": "stream",
     "text": [
      "[1, 4, 7, 10, 13, 16, 19, 'hey']\n"
     ]
    }
   ],
   "source": [
    "lstTest.append('hey')\n",
    "print(lstTest)"
   ]
  },
  {
   "cell_type": "code",
   "execution_count": 5,
   "metadata": {},
   "outputs": [
    {
     "name": "stdout",
     "output_type": "stream",
     "text": [
      "[4, 7, 10, 13, 16, 19, 'hey']\n"
     ]
    }
   ],
   "source": [
    "del lstTest[0]\n",
    "print(lstTest)"
   ]
  },
  {
   "cell_type": "code",
   "execution_count": 6,
   "metadata": {},
   "outputs": [
    {
     "name": "stdout",
     "output_type": "stream",
     "text": [
      "['hey', 19, 16, 13, 10, 7, 4]\n"
     ]
    }
   ],
   "source": [
    "lstTest.reverse()\n",
    "print(lstTest)"
   ]
  },
  {
   "cell_type": "code",
   "execution_count": 7,
   "metadata": {},
   "outputs": [
    {
     "name": "stdout",
     "output_type": "stream",
     "text": [
      "['hey', 19, 16, 13, 10, 7]\n"
     ]
    }
   ],
   "source": [
    "lstTest.remove(4)\n",
    "print(lstTest)"
   ]
  },
  {
   "cell_type": "markdown",
   "metadata": {},
   "source": [
    "** lst.remove(4)는 index 4를 지우는게 아닌, <span style=\"color:blue\">List 안의 value 4를 지우는 것</span>이다.\n",
    "~<span style=\"color:gray\">헷갈리니까 안 써야지</span>~"
   ]
  },
  {
   "cell_type": "markdown",
   "metadata": {},
   "source": [
    "# Tuple\n",
    "- Tuple and List are almost alike\n",
    "\n",
    "\n",
    "- Only different in changing values\n",
    "    - Tuple does not allow value changes"
   ]
  },
  {
   "cell_type": "code",
   "execution_count": 8,
   "metadata": {},
   "outputs": [
    {
     "name": "stdout",
     "output_type": "stream",
     "text": [
      "(1, 2, 3)\n",
      "1 2 3\n",
      "3 2\n",
      "(2, 3)\n",
      "(1, 2, 3, 1, 2, 3)\n",
      "(1, 2, 3, 1, 2, 3, 1, 2, 3)\n"
     ]
    },
    {
     "ename": "TypeError",
     "evalue": "'tuple' object does not support item assignment",
     "output_type": "error",
     "traceback": [
      "\u001b[1;31m---------------------------------------------------------------------------\u001b[0m",
      "\u001b[1;31mTypeError\u001b[0m                                 Traceback (most recent call last)",
      "\u001b[1;32m<ipython-input-8-d82a5ba57327>\u001b[0m in \u001b[0;36m<module>\u001b[1;34m\u001b[0m\n\u001b[0;32m      7\u001b[0m \u001b[0mprint\u001b[0m\u001b[1;33m(\u001b[0m\u001b[0mtplTest\u001b[0m\u001b[1;33m*\u001b[0m\u001b[1;36m3\u001b[0m\u001b[1;33m)\u001b[0m\u001b[1;33m\u001b[0m\u001b[1;33m\u001b[0m\u001b[0m\n\u001b[0;32m      8\u001b[0m \u001b[1;33m\u001b[0m\u001b[0m\n\u001b[1;32m----> 9\u001b[1;33m \u001b[0mtplTest\u001b[0m\u001b[1;33m[\u001b[0m\u001b[1;36m0\u001b[0m\u001b[1;33m]\u001b[0m \u001b[1;33m=\u001b[0m \u001b[1;36m100\u001b[0m\u001b[1;33m\u001b[0m\u001b[1;33m\u001b[0m\u001b[0m\n\u001b[0m",
      "\u001b[1;31mTypeError\u001b[0m: 'tuple' object does not support item assignment"
     ]
    }
   ],
   "source": [
    "tplTest = (1,2,3)\n",
    "print(tplTest)\n",
    "print(tplTest[0], tplTest[1], tplTest[2])\n",
    "print(tplTest[-1], tplTest[-2])\n",
    "print(tplTest[1:3])\n",
    "print(tplTest+tplTest)\n",
    "print(tplTest*3)\n",
    "\n",
    "tplTest[0] = 100"
   ]
  },
  {
   "cell_type": "markdown",
   "metadata": {},
   "source": [
    "** Tuple 자료형은 중간에 값을 바꿀 수 없다!"
   ]
  },
  {
   "cell_type": "markdown",
   "metadata": {},
   "source": [
    "# Dictionary\n",
    "- Dictionary is also a collection variable type\n",
    "    - However, it is not sequential (선형적이지 않다)\n",
    "    - It works by a pair of keys and values\n",
    "        - A set of (key1, value1), (key2, value2), (key3, value3)...\n",
    "        - Exact syntax is {key1:value1, key2:value2, key3:value3 ...}"
   ]
  },
  {
   "cell_type": "code",
   "execution_count": 9,
   "metadata": {},
   "outputs": [
    {
     "name": "stdout",
     "output_type": "stream",
     "text": [
      "one\n"
     ]
    }
   ],
   "source": [
    "dicTest= {1:'one', 2:'two', 3:'three'}\n",
    "print(dicTest[1])"
   ]
  },
  {
   "cell_type": "code",
   "execution_count": 10,
   "metadata": {},
   "outputs": [
    {
     "name": "stdout",
     "output_type": "stream",
     "text": [
      "{1: 'one', 2: 'two', 3: 'three', 4: 'four'}\n"
     ]
    }
   ],
   "source": [
    "dicTest[4] = 'four'\n",
    "print(dicTest)"
   ]
  },
  {
   "cell_type": "code",
   "execution_count": 11,
   "metadata": {},
   "outputs": [
    {
     "name": "stdout",
     "output_type": "stream",
     "text": [
      "{1: 'hana', 2: 'two', 3: 'three', 4: 'four'}\n"
     ]
    }
   ],
   "source": [
    "dicTest[1] = 'hana'\n",
    "print(dicTest)"
   ]
  },
  {
   "cell_type": "code",
   "execution_count": 12,
   "metadata": {},
   "outputs": [
    {
     "name": "stdout",
     "output_type": "stream",
     "text": [
      "dict_keys([1, 2, 3, 4])\n",
      "dict_values(['hana', 'two', 'three', 'four'])\n",
      "dict_items([(1, 'hana'), (2, 'two'), (3, 'three'), (4, 'four')])\n"
     ]
    }
   ],
   "source": [
    "print(dicTest.keys())\n",
    "print(dicTest.values())\n",
    "print(dicTest.items())"
   ]
  }
 ],
 "metadata": {
  "kernelspec": {
   "display_name": "dmqa_pytorch",
   "language": "python",
   "name": "dmqa_pytorch"
  },
  "language_info": {
   "codemirror_mode": {
    "name": "ipython",
    "version": 3
   },
   "file_extension": ".py",
   "mimetype": "text/x-python",
   "name": "python",
   "nbconvert_exporter": "python",
   "pygments_lexer": "ipython3",
   "version": "3.7.4"
  }
 },
 "nbformat": 4,
 "nbformat_minor": 2
}
