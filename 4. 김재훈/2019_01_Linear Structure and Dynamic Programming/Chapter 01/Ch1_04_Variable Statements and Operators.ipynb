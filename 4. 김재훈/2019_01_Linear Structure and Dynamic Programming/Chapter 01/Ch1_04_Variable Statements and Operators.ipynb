{
 "cells": [
  {
   "cell_type": "markdown",
   "metadata": {},
   "source": [
    "# Data Types\n",
    "\n",
    "<img src=\"img/04_01.PNG\">"
   ]
  },
  {
   "cell_type": "markdown",
   "metadata": {},
   "source": [
    "** 추가 자료 **\n",
    "\n",
    "<b>Python3로 넘어오면서 Long integer는 사라졌다.</b>\n",
    "\n",
    "Python 2.x supports 4 built-in numeric types - int, long, float and complex. <br>Of these, <u>the long type has been dropped in Python 3.x</u> - the int type is now of unlimited length by default.<br>\n",
    "(출처 ::: https://en.wikibooks.org/wiki/Python_Programming/Numbers)"
   ]
  },
  {
   "cell_type": "code",
   "execution_count": 9,
   "metadata": {},
   "outputs": [
    {
     "name": "stdout",
     "output_type": "stream",
     "text": [
      "Year by base 10 : 2019, by base 8 : 2019, by base 16 : 2019\n",
      "Complex value :  (3+4j)\n",
      "Absolute value :  5.0\n",
      "Real value :  4.0\n",
      "Image value :  3.0\n",
      "Department :  Industrial Management Engineering\n",
      "Full name of dept. :  Industrial Management Engineering, Korea University\n"
     ]
    }
   ],
   "source": [
    "def main():\n",
    "    numYearBase10 = 2019 #Integer in decimal\n",
    "    numYearBase8 = 0o3743 # octal\n",
    "    numYearBase16 = 0x7E3 # hexademcial\n",
    "    print(\"Year by base 10 : {}, by base 8 : {}, by base 16 : {}\".format(numYearBase10,\\\n",
    "                                                                         numYearBase8, numYearBase16)) # 여기서 \\는 줄바꿈 기호\n",
    "    \n",
    "    # Complex numbers\n",
    "    numComplex1 = complex(3,4)\n",
    "    numComplex2 = 4+3j\n",
    "    print(\"Complex value : \", numComplex1)\n",
    "    print(\"Absolute value : \", abs(numComplex2))\n",
    "    print(\"Real value : \", numComplex2.real)\n",
    "    print(\"Image value : \", numComplex2.imag)\n",
    "    \n",
    "    strDeptName = \"Industrial Management Engineering\"\n",
    "    strUnivName = 'Korea University'\n",
    "    print(\"Department : \", strDeptName)\n",
    "    print(\"Full name of dept. : \", (strDeptName+\", \"+strUnivName))\n",
    "    \n",
    "main()"
   ]
  },
  {
   "cell_type": "markdown",
   "metadata": {},
   "source": [
    "# Operators"
   ]
  },
  {
   "cell_type": "code",
   "execution_count": 16,
   "metadata": {},
   "outputs": [
    {
     "name": "stdout",
     "output_type": "stream",
     "text": [
      "13, 7, 30, 3.333333, 1\n",
      "3.3333333333333335 3.3333333333333335\n",
      "3.0 10\n",
      "False\n",
      "True\n",
      "<class 'float'>\n",
      "<class 'str'> 3.0\n",
      "287.2857142857143\n"
     ]
    }
   ],
   "source": [
    "def main():\n",
    "    numTest1 = 10\n",
    "    numTest2 = 3.0 # 기본적으로 Float로 저장된다.\n",
    "    numPlus = numTest1 + numTest2\n",
    "    numMinus = numTest1 - numTest2\n",
    "    numMultiply = numTest1 * numTest2\n",
    "    numDivide = numTest1 / numTest2\n",
    "    numModula = numTest1 % numTest2\n",
    "    print(\"%d, %d, %d, %f, %d\" % (numPlus, numMinus, numMultiply, numDivide, numModula))\n",
    "    \n",
    "    numDivideInt = numTest1 / int(numTest2) \n",
    "    # 여기선 Float 값이 Int가 되어서 계산된다.\n",
    "    # 이처럼 데이터타입을 바꿔주는 것을 \"type casting\"이라고 한다.\n",
    "    print(numDivide, numDivideInt)\n",
    "    \n",
    "    # See the swapping statement\n",
    "    numTest2, numTest1 = numTest1, numTest2\n",
    "    print(numTest1, numTest2)\n",
    "    \n",
    "    print(numTest1 == numTest2)\n",
    "    print(numTest1 != numTest2)\n",
    "    print(type(numTest1))\n",
    "    \n",
    "    numTest1 = str(numTest1) # type casting\n",
    "    print(type(numTest1), numTest1)\n",
    "    \n",
    "    # String Formula evaluation\n",
    "    strFormula = \"2011 / 7\"\n",
    "    print(eval(strFormula))\n",
    "    \n",
    "    \n",
    "main()"
   ]
  },
  {
   "cell_type": "code",
   "execution_count": null,
   "metadata": {},
   "outputs": [],
   "source": []
  }
 ],
 "metadata": {
  "kernelspec": {
   "display_name": "dmqa_pytorch",
   "language": "python",
   "name": "dmqa_pytorch"
  },
  "language_info": {
   "codemirror_mode": {
    "name": "ipython",
    "version": 3
   },
   "file_extension": ".py",
   "mimetype": "text/x-python",
   "name": "python",
   "nbconvert_exporter": "python",
   "pygments_lexer": "ipython3",
   "version": "3.7.4"
  }
 },
 "nbformat": 4,
 "nbformat_minor": 2
}
