{
 "cells": [
  {
   "cell_type": "markdown",
   "metadata": {},
   "source": [
    "# Function Statement"
   ]
  },
  {
   "cell_type": "markdown",
   "metadata": {},
   "source": [
    "* You can return multiple variables\n",
    "    - Keep them in order\n",
    "    \n",
    "\n",
    "* You do not have to specify return types\n",
    "    - Anyway you don't have types in Python\n",
    "\n",
    "\n",
    "* One line function is called lambda function"
   ]
  },
  {
   "cell_type": "code",
   "execution_count": 1,
   "metadata": {},
   "outputs": [],
   "source": [
    "numA = 1\n",
    "numB = 2"
   ]
  },
  {
   "cell_type": "code",
   "execution_count": 2,
   "metadata": {},
   "outputs": [],
   "source": [
    "def add(numParam1, numParam2):\n",
    "    return numParam1 + numParam2"
   ]
  },
  {
   "cell_type": "code",
   "execution_count": 6,
   "metadata": {},
   "outputs": [],
   "source": [
    "def multiply(numParam1, numParam2):\n",
    "    return numParam1*2, numParam2*3"
   ]
  },
  {
   "cell_type": "code",
   "execution_count": 7,
   "metadata": {},
   "outputs": [],
   "source": [
    "def increase(numParam1, step=1):\n",
    "    return numParam1*step"
   ]
  },
  {
   "cell_type": "code",
   "execution_count": 8,
   "metadata": {},
   "outputs": [],
   "source": [
    "numC = add(numA, numB)\n",
    "numD, numE = multiply(numA, numB)\n",
    "numF = increase(numA, 5)\n",
    "numG = increase(numA)"
   ]
  },
  {
   "cell_type": "code",
   "execution_count": 9,
   "metadata": {},
   "outputs": [],
   "source": [
    "lambdaAdd = lambda numParam1, numParam2 : numParam1 + numParam2"
   ]
  },
  {
   "cell_type": "code",
   "execution_count": 10,
   "metadata": {},
   "outputs": [],
   "source": [
    "numH = lambdaAdd(numA, numB)"
   ]
  },
  {
   "cell_type": "code",
   "execution_count": 11,
   "metadata": {},
   "outputs": [
    {
     "name": "stdout",
     "output_type": "stream",
     "text": [
      "3 2 6 5 1 3\n"
     ]
    }
   ],
   "source": [
    "print(numC, numD, numE, numF, numG, numH)"
   ]
  },
  {
   "cell_type": "markdown",
   "metadata": {},
   "source": [
    "# Sample Program: Finding Prime Numbers"
   ]
  },
  {
   "cell_type": "code",
   "execution_count": 13,
   "metadata": {},
   "outputs": [
    {
     "name": "stdout",
     "output_type": "stream",
     "text": [
      "1  th prime :  1\n",
      "2  th prime :  2\n",
      "3  th prime :  3\n",
      "4  th prime :  5\n",
      "5  th prime :  7\n"
     ]
    }
   ],
   "source": [
    "# Function for calculation\n",
    "def isPrimeNumber(numParam1):\n",
    "    for itr in range(2, numParam1):\n",
    "        if numParam1 % itr == 0:\n",
    "            break\n",
    "    else:\n",
    "        return True\n",
    "    return False\n",
    "\n",
    "# Function for iteration\n",
    "def findPrimes(numParam1, numParam2):\n",
    "    numCount = 1\n",
    "    for itr in range(numParam1, numParam2):\n",
    "        if isPrimeNumber(itr) == True:\n",
    "            print(numCount, \" th prime : \",itr)\n",
    "            numCount += 1\n",
    "\n",
    "# Triggers the exectuion\n",
    "findPrimes(1,10)"
   ]
  }
 ],
 "metadata": {
  "kernelspec": {
   "display_name": "dmqa_pytorch",
   "language": "python",
   "name": "dmqa_pytorch"
  },
  "language_info": {
   "codemirror_mode": {
    "name": "ipython",
    "version": 3
   },
   "file_extension": ".py",
   "mimetype": "text/x-python",
   "name": "python",
   "nbconvert_exporter": "python",
   "pygments_lexer": "ipython3",
   "version": "3.7.4"
  }
 },
 "nbformat": 4,
 "nbformat_minor": 2
}
