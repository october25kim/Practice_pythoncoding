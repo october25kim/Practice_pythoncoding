{
 "cells": [
  {
   "cell_type": "code",
   "execution_count": null,
   "metadata": {},
   "outputs": [],
   "source": [
    "'''\n",
    "회귀분석 전반에 대한 내용 및 문제점 해결 방법(피쳐 정규화)\n",
    "https://yamalab.tistory.com/46?category=711359 \n",
    "'''"
   ]
  },
  {
   "cell_type": "code",
   "execution_count": 2,
   "metadata": {},
   "outputs": [],
   "source": [
    "import numpy as np\n",
    "import pandas as pd\n"
   ]
  },
  {
   "cell_type": "code",
   "execution_count": 8,
   "metadata": {
    "scrolled": true
   },
   "outputs": [
    {
     "data": {
      "text/plain": [
       "0       0\n",
       "1       0\n",
       "2       0\n",
       "3       0\n",
       "4       0\n",
       "       ..\n",
       "4995    0\n",
       "4996    0\n",
       "4997    0\n",
       "4998    0\n",
       "4999    0\n",
       "Name: Personal Loan, Length: 5000, dtype: int64"
      ]
     },
     "metadata": {},
     "output_type": "display_data"
    }
   ],
   "source": [
    "data = pd.read_csv('C:/Users/User/Desktop/Data/UniversalBank.csv')\n",
    "data.head()\n",
    "display(data['Personal Loan'])"
   ]
  },
  {
   "cell_type": "code",
   "execution_count": 20,
   "metadata": {},
   "outputs": [],
   "source": [
    "example = np.array([[1,2,3],\n",
    "                    [2,3,1],\n",
    "                    [1,1,2]])"
   ]
  },
  {
   "cell_type": "code",
   "execution_count": 6,
   "metadata": {},
   "outputs": [],
   "source": [
    "class SoftmaxRegression:\n",
    "    def __int__(self, learning_rate = 0.01, threshold = 0.01, max_iterations = 100000, verbose = False,\n",
    "               reg_strength = 1e-5):                                      #defualt 값들 \n",
    "        self._learning_rate = learning_rate #학습 계수 \n",
    "        self._max_iterations = max_iterations #반복 횟수 \n",
    "        self._threshold = threshold  #학습 중단 계수 \n",
    "        self._verbose = verbose #중간 진행사항 출력 여부 \n",
    "        self._reg_strength = reg_strength #정규화 파라미터 개수 \n",
    "    \n",
    "    #theta(W) 계수들 return \n",
    "    def get_coeff(self):\n",
    "        return self._W\n",
    "    \n",
    "    #softmax function \n",
    "    def softmax_func(self, x_data):   #매개변수 \n",
    "        predictions = x_data - (x_data.max(axis=1).reshape([-1,1])) #매개변수 수행문 \n",
    "        #reshape[-1,1] : '-1'이 들어가 있는 '행(row)' 의 개수가 가변적으로 정해짐  -> n X 1 형태 \n",
    "        softmax = np.exp(predictions) \n",
    "        softmax = softmax / softmax.sum(axis=1).reshape([-1,1]) \n",
    "        return softmax \n",
    "    \n",
    "    #softmax function \n",
    "    def cost_func(self, softmax, y_data):\n",
    "        sample_size = y_data.shape[0]  #shape[0] : shape의 0번째를 반환-> 행 갯수 \n",
    "        #softmax[np.arange(len(softmax)),np.argmax(y_data,axis=1)] \n",
    "        #--> 해당 \n",
    "        cost = -np.log(softmax[np.arange(len(softmax)),np.argmax(y_data,axis=1)]).sum()\n",
    "        cost = cost / sample_size \n",
    "        cost = cost + (self._reg_strength * (self.W**2).sum()) / 2 \n",
    "    \n",
    "    \n",
    "    #gradient 계산 (regularized)\n",
    "    def gradient_func(self, softmax, x_data, y_data):\n",
    "        sample_size = y.shape[0]\n",
    "        \n",
    "        #softmax cost function의 미분 결과는 pi-yi이므로\n",
    "        #softmax가 계산된 matrix에서, (해당 one-hot의 class index * 해당 유닛)에 해당하는 유닛 위치에 -1을 더해줌 \n",
    "        \n",
    "        softmax[np.arange(len(softmax)), np.argmax(y_data, axis=1)] -= 1 \n",
    "        gradient = np.dot(x_data.transpose(), softmax)/sample_size #dot 행렬곱\n",
    "        gradient += self._reg_strength * self._W \n",
    "        return gradient \n",
    "    "
   ]
  },
  {
   "cell_type": "code",
   "execution_count": 21,
   "metadata": {
    "scrolled": true
   },
   "outputs": [
    {
     "data": {
      "text/plain": [
       "array([[0.09003057, 0.24472847, 0.66524096],\n",
       "       [0.24472847, 0.66524096, 0.09003057],\n",
       "       [0.21194156, 0.21194156, 0.57611688]])"
      ]
     },
     "execution_count": 21,
     "metadata": {},
     "output_type": "execute_result"
    }
   ],
   "source": [
    "a = SoftmaxRegression()\n",
    "softmax = a.softmax_func(example)\n",
    "a.cost_func()"
   ]
  },
  {
   "cell_type": "code",
   "execution_count": 5,
   "metadata": {},
   "outputs": [],
   "source": [
    "###다른 코드"
   ]
  },
  {
   "cell_type": "code",
   "execution_count": 2,
   "metadata": {},
   "outputs": [
    {
     "name": "stdout",
     "output_type": "stream",
     "text": [
      "[0.01821127 0.24519181 0.73659691]\n",
      "1.0\n"
     ]
    }
   ],
   "source": [
    "import numpy as np\n",
    "\n",
    "def softmax(a) :\n",
    "    exp_a = np.exp(a)\n",
    "    sum_exp_a = np.sum(exp_a)\n",
    "    y = exp_a / sum_exp_a\n",
    "    \n",
    "    return y\n",
    "\n",
    "a = np.array([0.3, 2.9, 4.0])\n",
    "\n",
    "print(softmax(a)) # softmax 결과값 출력\n",
    "print(sum(softmax(a))) # softmax 결과값들의 합은 1이 된다.\n"
   ]
  },
  {
   "cell_type": "code",
   "execution_count": 4,
   "metadata": {},
   "outputs": [
    {
     "name": "stdout",
     "output_type": "stream",
     "text": [
      "[0.21194156 0.21194156 0.57611688]\n",
      "1.0\n"
     ]
    },
    {
     "data": {
      "image/png": "[encoded data removed]",
      "text/plain": [
       "<Figure size 432x288 with 1 Axes>"
      ]
     },
     "metadata": {},
     "output_type": "display_data"
    }
   ],
   "source": [
    "import numpy as np\n",
    "import matplotlib.pyplot as plt\n",
    " \n",
    "def softmax(x):\n",
    "    e_x = np.exp(x - np.max(x))\n",
    "    return e_x / e_x.sum()\n",
    " \n",
    "x = np.array([1.0,1.0,2.0])\n",
    " \n",
    "y = softmax(x)\n",
    "\n",
    "print(y)\n",
    "print(np.sum(y))\n",
    " \n",
    "ratio = y\n",
    "labels = y\n",
    " \n",
    "plt.pie(ratio, labels=labels, shadow=True, startangle=90)\n",
    "plt.show()"
   ]
  },
  {
   "cell_type": "code",
   "execution_count": null,
   "metadata": {},
   "outputs": [],
   "source": []
  },
  {
   "cell_type": "code",
   "execution_count": null,
   "metadata": {},
   "outputs": [],
   "source": []
  },
  {
   "cell_type": "code",
   "execution_count": null,
   "metadata": {},
   "outputs": [],
   "source": []
  },
  {
   "cell_type": "code",
   "execution_count": null,
   "metadata": {},
   "outputs": [],
   "source": []
  },
  {
   "cell_type": "code",
   "execution_count": null,
   "metadata": {},
   "outputs": [],
   "source": []
  }
 ],
 "metadata": {
  "kernelspec": {
   "display_name": "Python 3",
   "language": "python",
   "name": "python3"
  },
  "language_info": {
   "codemirror_mode": {
    "name": "ipython",
    "version": 3
   },
   "file_extension": ".py",
   "mimetype": "text/x-python",
   "name": "python",
   "nbconvert_exporter": "python",
   "pygments_lexer": "ipython3",
   "version": "3.7.1"
  }
 },
 "nbformat": 4,
 "nbformat_minor": 2
}
