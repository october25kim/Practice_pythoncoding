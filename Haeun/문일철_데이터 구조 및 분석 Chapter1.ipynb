{
 "cells": [
  {
   "cell_type": "code",
   "execution_count": 2,
   "metadata": {},
   "outputs": [],
   "source": [
    "def main() :  #def: funfion 선언 / main: 함수이름 / ()안에 input  \n",
    "    print(\"hello world\") #앞 공백 indenpation \n",
    "    \n",
    "    score1, score2 = input(\"Enter two scores separated by a comma: \").split(\",\")\n",
    "    average = (int(score1) + int(score2)) / 2.0\n",
    "    \n",
    "    print(\"the average of the score is:\",average)\n",
    "\n",
    "    \n",
    "    \n",
    "    "
   ]
  },
  {
   "cell_type": "code",
   "execution_count": 4,
   "metadata": {},
   "outputs": [
    {
     "name": "stdout",
     "output_type": "stream",
     "text": [
      "hello world\n",
      "Enter two scores separated by a comma: 30,40\n",
      "the average of the score is: 35.0\n"
     ]
    }
   ],
   "source": [
    "main()"
   ]
  },
  {
   "cell_type": "code",
   "execution_count": null,
   "metadata": {},
   "outputs": [],
   "source": [
    "#object oriented program "
   ]
  },
  {
   "cell_type": "code",
   "execution_count": 13,
   "metadata": {},
   "outputs": [],
   "source": [
    "##class 선언 __Definition part \n",
    "class Helloworld:\n",
    "    def __init__ (self): #constructor\n",
    "        print(\"Hello world! just one more time\")\n",
    "    \n",
    "    def __del__(self):\n",
    "        print(\"Good bye!\")\n",
    "        \n",
    "    def performAverage(self,val1, val2): #self는 그대로 가져옴 \n",
    "        average = (val1+val2)/2.0\n",
    "        print(\"The average of the scores is : \", average)\n",
    " ##class문 작동 __Exccution part \n",
    "def main():\n",
    "    world = Helloworld() # world는 variable / Helloworld()는 instance template (빵 틀)\n",
    "    score1, score2 = input(\"Enter two scores separated by a comma: \").split(\",\") #변수 2개 \n",
    "    world.performAverage(int(score1),int(score2)) \n",
    "    #world.performAverage:world라는 것 안에 담긴 performAverage라는 함수 하나를 불러옴 \n",
    "\n",
    "    \n",
    "##trigger     \n",
    "main()    "
   ]
  },
  {
   "cell_type": "code",
   "execution_count": 15,
   "metadata": {},
   "outputs": [],
   "source": [
    "# class Rectangle:\n",
    "#     count = 0  # 클래스 변수\n",
    " \n",
    "#     # 초기자(initializer)\n",
    "#     def __init__(self, width, height):\n",
    "#         # self.* : 인스턴스변수\n",
    "#         self.width = width\n",
    "#         self.height = height\n",
    "#         Rectangle.count += 1\n",
    " \n",
    "#     # 메서드\n",
    "#     def calcArea(self):  #인스턴스 메서드\n",
    "#         area = self.width * self.height\n",
    "#         return area"
   ]
  },
  {
   "cell_type": "markdown",
   "metadata": {},
   "source": [
    "integer: 정수만\n",
    "float: 소수점까지 표현 가능 \n",
    "character string:\n",
    "list: \n",
    "dictionary: \n",
    "tuples:\n"
   ]
  },
  {
   "cell_type": "code",
   "execution_count": 17,
   "metadata": {},
   "outputs": [
    {
     "name": "stdout",
     "output_type": "stream",
     "text": [
      "Year by base 10 : 2019, by base 8 : 2019, by base 16 : 2019\n",
      "Complex value :  (3+4j)\n",
      "Absolute value :  5.0\n",
      "Real value :  4.0\n",
      "Image value : 3.0\n",
      "Department :  Industrial & Systems Engineering\n",
      "Full name of dept. : Industrial & Systems Engineering,KOREA\n"
     ]
    }
   ],
   "source": [
    "def main():\n",
    "    numYearBase10= 2019\n",
    "    numYearBase8= 0o3743\n",
    "    numYearBase16= 0x7E3\n",
    "    \n",
    "    print(\"Year by base 10 : %d, by base 8 : %d, by base 16 : %d\"  \n",
    "          % (numYearBase10,numYearBase8,numYearBase16))\n",
    "    # %d 를 통해 뒤 % 뒤에 있는 정수 보여줌 \n",
    "    \n",
    "    numComplex1 = complex(3,4) #복소수 형태  \n",
    "    numComplex2= 4+3j\n",
    "    \n",
    "    print(\"Complex value : \",numComplex1)\n",
    "    print(\"Absolute value : \",abs(numComplex2)) # sqrt(4^2+ 3^2)\n",
    "    print(\"Real value : \", numComplex2.real)  #실수부\n",
    "    print(\"Image value :\" , numComplex2.imag) #허수부 \n",
    "    \n",
    "    strDeptName = \"Industrial & Systems Engineering\"\n",
    "    strUnivName = \"KOREA\"\n",
    "    print(\"Department : \", strDeptName)\n",
    "    print(\"Full name of dept. :\", (strDeptName+\",\"+strUnivName))\n",
    "\n",
    "main()\n",
    "    "
   ]
  },
  {
   "cell_type": "markdown",
   "metadata": {},
   "source": [
    "String\n",
    "===="
   ]
  },
  {
   "cell_type": "code",
   "execution_count": 1,
   "metadata": {},
   "outputs": [
    {
     "name": "stdout",
     "output_type": "stream",
     "text": [
      "Hello World! ISE\n",
      "Hello World! ISE True\n"
     ]
    }
   ],
   "source": [
    "strTest = 'Hello World! ISE'\n",
    "print(strTest)\n",
    "strTestComp = \"Hello World! ISE\"\n",
    "print(strTestComp, strTest == strTestComp)"
   ]
  },
  {
   "cell_type": "code",
   "execution_count": 2,
   "metadata": {},
   "outputs": [
    {
     "name": "stdout",
     "output_type": "stream",
     "text": [
      "H e\n"
     ]
    }
   ],
   "source": [
    "print(strTest[0], strTest[1])"
   ]
  },
  {
   "cell_type": "code",
   "execution_count": 4,
   "metadata": {},
   "outputs": [
    {
     "name": "stdout",
     "output_type": "stream",
     "text": [
      "E\n"
     ]
    }
   ],
   "source": [
    "print(strTest[-1])"
   ]
  },
  {
   "cell_type": "code",
   "execution_count": 5,
   "metadata": {},
   "outputs": [
    {
     "name": "stdout",
     "output_type": "stream",
     "text": [
      "16\n"
     ]
    }
   ],
   "source": [
    "print(len(strTest))"
   ]
  },
  {
   "cell_type": "code",
   "execution_count": 7,
   "metadata": {},
   "outputs": [
    {
     "name": "stdout",
     "output_type": "stream",
     "text": [
      "Hello World! ISE DeptDMQA\n"
     ]
    }
   ],
   "source": [
    "print(strTest+\" \"+\"Dept\"+\"DMQA\")"
   ]
  },
  {
   "cell_type": "code",
   "execution_count": 8,
   "metadata": {},
   "outputs": [
    {
     "name": "stdout",
     "output_type": "stream",
     "text": [
      "Hello World! ISEHello World! ISE\n"
     ]
    }
   ],
   "source": [
    "print(strTest*2) #repeat 2번 "
   ]
  },
  {
   "cell_type": "code",
   "execution_count": 11,
   "metadata": {},
   "outputs": [
    {
     "name": "stdout",
     "output_type": "stream",
     "text": [
      "False\n"
     ]
    }
   ],
   "source": [
    "print(\"ISE\" in strTest) #not in "
   ]
  },
  {
   "cell_type": "markdown",
   "metadata": {},
   "source": [
    "# index in sequence"
   ]
  },
  {
   "cell_type": "code",
   "execution_count": 12,
   "metadata": {},
   "outputs": [
    {
     "name": "stdout",
     "output_type": "stream",
     "text": [
      "e l\n"
     ]
    }
   ],
   "source": [
    "strTest = 'Hello World! ISE'\n",
    "print(strTest[1], strTest[2])"
   ]
  },
  {
   "cell_type": "code",
   "execution_count": 14,
   "metadata": {},
   "outputs": [
    {
     "name": "stdout",
     "output_type": "stream",
     "text": [
      "ell\n"
     ]
    }
   ],
   "source": [
    "print(strTest[1:3]) #1,2  from x to y -> y 도달 하기 전 까지 출력 "
   ]
  },
  {
   "cell_type": "code",
   "execution_count": 16,
   "metadata": {},
   "outputs": [
    {
     "name": "stdout",
     "output_type": "stream",
     "text": [
      "Hello World! IS\n"
     ]
    }
   ],
   "source": [
    "print(strTest[:len(strTest)-1])"
   ]
  },
  {
   "cell_type": "code",
   "execution_count": 17,
   "metadata": {},
   "outputs": [
    {
     "name": "stdout",
     "output_type": "stream",
     "text": [
      "el o\n"
     ]
    }
   ],
   "source": [
    "print(strTest[1:9:2]) #x:y:z ->from x to y with z steps "
   ]
  },
  {
   "cell_type": "code",
   "execution_count": 21,
   "metadata": {},
   "outputs": [
    {
     "name": "stdout",
     "output_type": "stream",
     "text": [
      " olleH\n"
     ]
    }
   ],
   "source": [
    "print(strTest[5::-1]) #minus 이동  -> 5 4 3 2 1 0 "
   ]
  },
  {
   "cell_type": "markdown",
   "metadata": {},
   "source": [
    "list\n",
    "============  \n",
    "\n",
    " 선형"
   ]
  },
  {
   "cell_type": "code",
   "execution_count": 29,
   "metadata": {},
   "outputs": [
    {
     "name": "stdout",
     "output_type": "stream",
     "text": [
      "[1, 2, 3, 4]\n",
      "2 3\n",
      "[2]\n",
      "[1, 2, 3, 4, 1, 2, 3, 4]\n",
      "[1, 2, 3, 4, 1, 2, 3, 4, 1, 2, 3, 4]\n"
     ]
    }
   ],
   "source": [
    "lstTest = [1,2,3,4]\n",
    "print(lstTest)\n",
    "print(lstTest[1],lstTest[2])\n",
    "print(lstTest[1:2])\n",
    "print(lstTest + lstTest) #연결 \n",
    "print(lstTest*3) #3번 반복 "
   ]
  },
  {
   "cell_type": "code",
   "execution_count": 48,
   "metadata": {},
   "outputs": [
    {
     "name": "stdout",
     "output_type": "stream",
     "text": [
      "[1, 4, 7, 10, 13, 16, 19]\n",
      "True False\n",
      "[1, 4, 7, 10, 13, 16, 19, 'hey']\n",
      "[4, 7, 10, 13, 16, 19, 'hey']\n",
      "['hey', 19, 16, 13, 10, 7, 4]\n",
      "['hey', 19, 16, 13, 10, 7]\n"
     ]
    }
   ],
   "source": [
    "lstTest = list(range(1,20,3))\n",
    "print(lstTest)\n",
    "print(4 in lstTest, 100 in lstTest)\n",
    "lstTest.append('hey') #추가 -> list는 문자, 숫자 모두로 구성 가능 \n",
    "print(lstTest)\n",
    "del lstTest[0]\n",
    "print(lstTest)\n",
    "lstTest.reverse()\n",
    "print(lstTest)\n",
    "lstTest.remove(4) #4라는 원소를 지워라 \n",
    "print(lstTest)\n",
    "\n"
   ]
  },
  {
   "cell_type": "markdown",
   "metadata": {},
   "source": [
    "tuple\n",
    "========\n",
    "\n",
    "선형 \n",
    "내용 변환 불가 "
   ]
  },
  {
   "cell_type": "code",
   "execution_count": 52,
   "metadata": {},
   "outputs": [
    {
     "name": "stdout",
     "output_type": "stream",
     "text": [
      "(1, 2, 3)\n",
      "1\n"
     ]
    }
   ],
   "source": [
    "tplTest = (1,2,3)\n",
    "print(tplTest)\n",
    "print(tplTest[0])"
   ]
  },
  {
   "cell_type": "markdown",
   "metadata": {},
   "source": [
    "dictionary \n",
    "===============\n",
    "\n",
    "선형 x"
   ]
  },
  {
   "cell_type": "code",
   "execution_count": 61,
   "metadata": {},
   "outputs": [
    {
     "name": "stdout",
     "output_type": "stream",
     "text": [
      "one\n",
      "{1: 'one', 2: 'two', 3: 'three', 4: 'four'}\n",
      "dict_keys([1, 2, 3, 4])\n",
      "dict_values(['one', 'two', 'three', 'four'])\n",
      "dict_items([(1, 'one'), (2, 'two'), (3, 'three'), (4, 'four')])\n"
     ]
    }
   ],
   "source": [
    "dicTest = { 1:'one', 2:'two' , 3:'three'}\n",
    "print(dicTest[1]) # 여기서는 index 아님 , key번호를 말함 \n",
    "dicTest[4] = \"four\" #추가 \n",
    "print(dicTest)\n",
    "print(dicTest.keys()) #dicTest를 인스턴스로 가정하면 , .을 통해 메소드를 call \n",
    "print(dicTest.values())\n",
    "print(dicTest.items()) #list 형태로 모아서 출력 "
   ]
  },
  {
   "cell_type": "markdown",
   "metadata": {},
   "source": [
    "if\n",
    "========"
   ]
  },
  {
   "cell_type": "code",
   "execution_count": 2,
   "metadata": {},
   "outputs": [
    {
     "name": "stdout",
     "output_type": "stream",
     "text": [
      "A\n",
      "Lower grade\n",
      "C\n"
     ]
    }
   ],
   "source": [
    "numScore = 95 \n",
    "if numScore > 90:\n",
    "    print('A')\n",
    "\n",
    "numScore = 75 \n",
    "if numScore > 90:\n",
    "    print('A')\n",
    "else:\n",
    "    print('Lower grade')\n",
    "    \n",
    "if numScore > 90:\n",
    "    print('A')\n",
    "elif numScore > 80:\n",
    "    print('B')\n",
    "elif numScore > 70:\n",
    "    print('C')\n",
    "else:\n",
    "    print('D'or'F')\n"
   ]
  },
  {
   "cell_type": "code",
   "execution_count": 9,
   "metadata": {},
   "outputs": [
    {
     "name": "stdout",
     "output_type": "stream",
     "text": [
      "0123456789\n",
      "55\n",
      "1\n",
      "11\n",
      "21\n",
      "31\n",
      "41\n",
      "61\n",
      "71\n",
      "81\n",
      "91\n",
      "01234!\n",
      "done\n",
      "012done\n"
     ]
    }
   ],
   "source": [
    "for itr in range(10):\n",
    "    print(itr,end='')  #end='' 는 가로로 출력  _ end='\\n'이 디폴트 \n",
    "print()\n",
    "\n",
    "sum = 0\n",
    "for itr in range(1,11):\n",
    "    sum += itr\n",
    "print(sum)   \n",
    "\n",
    "for itr in range(1,100,10):\n",
    "    if itr == 51:\n",
    "        continue  ##continue는 원래 for loop로 돌아와라 \n",
    "    else:\n",
    "        print(itr)\n",
    "\n",
    "        \n",
    "for itr in range(5):\n",
    "    print(itr, end='')\n",
    "else:    ##for loop가 break없이 끝났을때\n",
    "    \n",
    "    print('!')\n",
    "print('done')  \n",
    "\n",
    "\n",
    "for itr in range(5):\n",
    "    if itr == 3:\n",
    "        break\n",
    "    print(itr, end='')   \n",
    "else:\n",
    "    print('!')\n",
    "print('done')    "
   ]
  },
  {
   "cell_type": "code",
   "execution_count": 10,
   "metadata": {},
   "outputs": [
    {
     "name": "stdout",
     "output_type": "stream",
     "text": [
      "012done\n"
     ]
    }
   ],
   "source": [
    "for itr in range(5):\n",
    "    if itr == 3:\n",
    "        break\n",
    "    print(itr, end='')   \n",
    "else:\n",
    "    print('!')\n",
    "print('done')    "
   ]
  },
  {
   "cell_type": "markdown",
   "metadata": {},
   "source": [
    "function statement\n",
    "=============\n",
    "def name(params):\n",
    "statements\n",
    "return var1, var2\n",
    "\n",
    "형 선언 안함 \n"
   ]
  },
  {
   "cell_type": "code",
   "execution_count": 25,
   "metadata": {},
   "outputs": [
    {
     "name": "stdout",
     "output_type": "stream",
     "text": [
      "3 2 3 11 11 3\n"
     ]
    }
   ],
   "source": [
    "numA = 1\n",
    "numB = 2 \n",
    "\n",
    "def add(numParam1,numParam2):\n",
    "    return numParam1 + numParam2 \n",
    "\n",
    "def multiply(numParam1, numParam2):\n",
    "    return numParam1*2, numParam1*3\n",
    "\n",
    "def increase(numParam1,step = 1):\n",
    "    return numParam1+step\n",
    "numC = add(numA,numB)\n",
    "numD, numE = multiply(numA,numB)\n",
    "numF = increase(numA,10) # step 부여 \n",
    "numG = increase(numA)\n",
    "\n",
    "lambdaAdd = lambda numParam1, numParam2 : numParam1 + numParam2 \n",
    "\n",
    "numH = lambdaAdd(numA,numB) \n",
    "\n",
    "print(numC, numD,numE,numF,numG,numH)"
   ]
  },
  {
   "cell_type": "code",
   "execution_count": 31,
   "metadata": {},
   "outputs": [
    {
     "name": "stdout",
     "output_type": "stream",
     "text": [
      "1  th prime :  1\n",
      "2  th prime :  2\n",
      "3  th prime :  3\n",
      "4  th prime :  5\n",
      "5  th prime :  7\n"
     ]
    }
   ],
   "source": [
    "# function definition \n",
    "#function for calculation\n",
    "def isPrimeNumber(numParam1):\n",
    "    for itr in range(2,numParam1):\n",
    "        if numParam1 % itr == 0: #나머지 \n",
    "            break\n",
    "    else:\n",
    "        return True \n",
    "    return False \n",
    "\n",
    "#function for iteration\n",
    "def findPrimes(numParam1, numParam2):\n",
    "    numCount = 1 \n",
    "    for itr in range(numParam1, numParam2):  #이상, 미만 \n",
    "        if isPrimeNumber(itr) == True:\n",
    "            print(numCount, \" th prime : \", itr)\n",
    "            numCount = numCount + 1 \n",
    "#function call_statement for execution \n",
    "findPrimes(1,10)      "
   ]
  },
  {
   "cell_type": "code",
   "execution_count": 74,
   "metadata": {
    "scrolled": true
   },
   "outputs": [
    {
     "name": "stdout",
     "output_type": "stream",
     "text": [
      "1 the Yaksoo : 1\n",
      "2 the Yaksoo : 2\n",
      "3 the Yaksoo : 5\n",
      "4 the Yaksoo : 10\n"
     ]
    }
   ],
   "source": [
    "   \n",
    "#약수 구하기 \n",
    "def findYaksoo(numParam1):\n",
    "    numCount = 1 \n",
    "    for itr in range(1,numParam1+1):\n",
    "        if numParam1 % itr== 0:\n",
    "            print(numCount, \"the Yaksoo :\",itr)\n",
    "            numCount = numCount +1 \n",
    "\n",
    "findYaksoo(10)\n",
    "\n"
   ]
  },
  {
   "cell_type": "markdown",
   "metadata": {},
   "source": [
    "Assignment\n",
    "=========\n"
   ]
  },
  {
   "cell_type": "code",
   "execution_count": 82,
   "metadata": {},
   "outputs": [
    {
     "name": "stdout",
     "output_type": "stream",
     "text": [
      "[1, [1, 2, 3], 3]\n",
      "[[1, 2, 3], 'a', 'b']\n"
     ]
    }
   ],
   "source": [
    "#reference*****\n",
    "#x만 저장됨 \n",
    "x = [1,2,3]\n",
    "y = [1,x,3] # nested  __ reference \n",
    "z = [x, 'a','b']\n",
    "\n",
    "print(y)\n",
    "print(z) #x의 변화가 y ,z까지 변화 "
   ]
  },
  {
   "cell_type": "code",
   "execution_count": 87,
   "metadata": {},
   "outputs": [
    {
     "name": "stdout",
     "output_type": "stream",
     "text": [
      "[1, 2, 3]\n",
      "Values ara equivalent\n",
      "Values ara not stored at the same place\n"
     ]
    }
   ],
   "source": [
    "print(x)\n",
    "x2 = [1,2,3]\n",
    "if x == x2:   ##==은 reference 되어 있는 곳에 실제 저장된 값을 비교 \n",
    "    print('Values ara equivalent')\n",
    "    \n",
    "if x is x2:   ##is는 같은 곳을 reference 하고 있는지 \n",
    "    \n",
    "    print('Values ara stored at the same place')   \n",
    "else:\n",
    "    print('Values ara not stored at the same place')"
   ]
  },
  {
   "cell_type": "markdown",
   "metadata": {},
   "source": [
    "class and Instance \n",
    "============\n",
    "설계도: class -> 몇개의 function, variable \n",
    "집 : instance "
   ]
  },
  {
   "cell_type": "code",
   "execution_count": 93,
   "metadata": {},
   "outputs": [
    {
     "name": "stdout",
     "output_type": "stream",
     "text": [
      "Roof color is blue ,and door is  closed\n",
      "Roof color is red ,and door is  open\n"
     ]
    }
   ],
   "source": [
    "class MyHome:\n",
    "    colorRoof = 'red'\n",
    "    stateDoor = 'closed'\n",
    "    def paintRoof(self,color):\n",
    "        self.colorRoof = color \n",
    "    def openDoor(self):\n",
    "        self.stateDoor = 'open'\n",
    "    def closeDoor(self):\n",
    "        self.stateDoor = 'close'\n",
    "    def printStatus(self):\n",
    "        print(\"Roof color is\", self.colorRoof, \",and door is \",self.stateDoor)\n",
    "\n",
    "    \n",
    "homeAtDaejeon = MyHome()\n",
    "homeAtSeoul = MyHome()\n",
    "homeAtSeoul.openDoor()\n",
    "homeAtDaejeon.paintRoof('blue')\n",
    "homeAtDaejeon.printStatus()\n",
    "homeAtSeoul.printStatus()"
   ]
  },
  {
   "cell_type": "code",
   "execution_count": 95,
   "metadata": {},
   "outputs": [
    {
     "name": "stdout",
     "output_type": "stream",
     "text": [
      "Built on Daejeon Kaist\n",
      "Built at Mon Oct 28 16:18:34 2019\n",
      "Roof color is red ,and door is  closed\n",
      "Destroyed at Mon Oct 28 16:18:34 2019\n"
     ]
    }
   ],
   "source": [
    "from time import ctime\n",
    "\n",
    "class MyHome:\n",
    "    colorRoof = 'red'   ##member variable \n",
    "    stateDoor = 'closed'\n",
    "    def paintRoof(self,color):  ##member function \n",
    "        self.colorRoof = color \n",
    "    def openDoor(self):\n",
    "        self.stateDoor = 'open'\n",
    "    def closeDoor(self):\n",
    "        self.stateDoor = 'close'\n",
    "    def printStatus(self):\n",
    "        print(\"Roof color is\", self.colorRoof, \",and door is \",self.stateDoor)\n",
    "    \n",
    "    def __init__(self,strAddress): #constructer \n",
    "        print(\"Built on\", strAddress)\n",
    "        print(\"Built at\",ctime())\n",
    "        \n",
    "    def __del__(self):  #destructer \n",
    "        print(\"Destroyed at\",ctime())\n",
    "        \n",
    "    \n",
    "    \n",
    "homeAtDaejeon = MyHome('Daejeon Kaist')\n",
    "homeAtDaejeon.printStatus()\n",
    "del homeAtDaejeon \n"
   ]
  },
  {
   "cell_type": "code",
   "execution_count": null,
   "metadata": {},
   "outputs": [],
   "source": [
    "#from 디렉토리 구조 import 파일명 "
   ]
  },
  {
   "cell_type": "code",
   "execution_count": null,
   "metadata": {},
   "outputs": [
    {
     "name": "stdout",
     "output_type": "stream",
     "text": [
      "Enter customer name :haeun\n",
      "Line :  haeun \n",
      "Enter customer name :->\n",
      "Processed :  haeun\n",
      "Line : \n",
      "Enter customer name :moon\n",
      "Line :  moon \n",
      "Enter customer name :sum\n",
      "Line :  moon sum \n",
      "Enter customer name :soo\n",
      "Line :  moon sum soo \n",
      "Enter customer name :->\n",
      "Processed :  moon\n",
      "Line : sum soo \n"
     ]
    }
   ],
   "source": [
    "class CashierLine:\n",
    "    lstLine = [] #list 빈 껍데기 \n",
    "    def addCustomer(self, strName):\n",
    "        self.lstLine.append(strName)\n",
    "    def processCustomer(self):\n",
    "        strReturnName = self.lstLine[0]\n",
    "        self.lstLine.remove(strReturnName)\n",
    "        return strReturnName\n",
    "    def printStatus(self):\n",
    "        strReturn = \"\"\n",
    "        for itr in range(len(self.lstLine)):\n",
    "            strReturn += self.lstLine[itr] + \" \"\n",
    "        return strReturn \n",
    "    \n",
    "\n",
    "binLoop = True \n",
    "line = CashierLine() #CashierLine class에 따라 하나의 instance를 create \n",
    "while binLoop: \n",
    "    strName = input(\"Enter customer name :\")\n",
    "    if strName == \".\":\n",
    "        break \n",
    "    elif strName == \"->\":\n",
    "        print(\"Processed : \", line.processCustomer())\n",
    "        print(\"Line :\",line.printStatus())\n",
    "    else:\n",
    "        line.addCustomer(strName)\n",
    "        print(\"Line : \",line.printStatus())\n",
    "        \n",
    "print(\"Number of remaining customers : \", len(line.lstLine))       \n",
    "    "
   ]
  },
  {
   "cell_type": "code",
   "execution_count": null,
   "metadata": {},
   "outputs": [],
   "source": []
  },
  {
   "cell_type": "code",
   "execution_count": null,
   "metadata": {},
   "outputs": [],
   "source": []
  },
  {
   "cell_type": "code",
   "execution_count": null,
   "metadata": {},
   "outputs": [],
   "source": []
  },
  {
   "cell_type": "code",
   "execution_count": null,
   "metadata": {},
   "outputs": [],
   "source": []
  },
  {
   "cell_type": "code",
   "execution_count": null,
   "metadata": {},
   "outputs": [],
   "source": []
  },
  {
   "cell_type": "code",
   "execution_count": null,
   "metadata": {},
   "outputs": [],
   "source": []
  },
  {
   "cell_type": "code",
   "execution_count": null,
   "metadata": {},
   "outputs": [],
   "source": []
  },
  {
   "cell_type": "code",
   "execution_count": null,
   "metadata": {},
   "outputs": [],
   "source": []
  },
  {
   "cell_type": "code",
   "execution_count": null,
   "metadata": {},
   "outputs": [],
   "source": []
  },
  {
   "cell_type": "code",
   "execution_count": null,
   "metadata": {},
   "outputs": [],
   "source": []
  },
  {
   "cell_type": "code",
   "execution_count": null,
   "metadata": {},
   "outputs": [],
   "source": []
  },
  {
   "cell_type": "code",
   "execution_count": null,
   "metadata": {},
   "outputs": [],
   "source": []
  },
  {
   "cell_type": "code",
   "execution_count": null,
   "metadata": {},
   "outputs": [],
   "source": []
  }
 ],
 "metadata": {
  "kernelspec": {
   "display_name": "Python 3",
   "language": "python",
   "name": "python3"
  },
  "language_info": {
   "codemirror_mode": {
    "name": "ipython",
    "version": 3
   },
   "file_extension": ".py",
   "mimetype": "text/x-python",
   "name": "python",
   "nbconvert_exporter": "python",
   "pygments_lexer": "ipython3",
   "version": "3.7.1"
  }
 },
 "nbformat": 4,
 "nbformat_minor": 2
}
